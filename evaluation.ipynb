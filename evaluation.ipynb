{
 "cells": [
  {
   "cell_type": "code",
   "execution_count": 1,
   "metadata": {},
   "outputs": [],
   "source": [
    "import os\n",
    "import random\n",
    "from datetime import datetime\n",
    "from collections import Counter\n",
    "\n",
    "import numpy as np\n",
    "import pandas as pd\n",
    "import tensorflow as tf\n",
    "import tensorflow_addons as tfa\n",
    "\n",
    "from utils import call_backs, misc, preprocessing\n",
    "from custom_layers.arcface_loss import ArcMarginProduct"
   ]
  },
  {
   "cell_type": "markdown",
   "metadata": {},
   "source": [
    "### Config"
   ]
  },
  {
   "cell_type": "code",
   "execution_count": 2,
   "metadata": {},
   "outputs": [],
   "source": [
    "class config:\n",
    "    # GENERAL\n",
    "    RANDOM_SEED = 5\n",
    "    TENSOR_LOG_DIR = 'logs'\n",
    "    SAVE_DIR = 'saved_models'\n",
    "\n",
    "    # DATA\n",
    "    INPUT_SIZE = (28,28,1)\n",
    "    NUM_CLASSES = 10\n",
    "\n",
    "    # MODEL\n",
    "    OUTPUT_EMB = 64\n",
    "    MIDDLE_EMB = 256\n",
    "\n",
    "    # TRAINING\n",
    "    BATCH_SIZE = 32\n",
    "    LR = .000005\n",
    "\n",
    "misc.seed_everything(config.RANDOM_SEED)"
   ]
  },
  {
   "cell_type": "markdown",
   "metadata": {},
   "source": [
    "### Load dataset"
   ]
  },
  {
   "cell_type": "code",
   "execution_count": 3,
   "metadata": {},
   "outputs": [],
   "source": [
    "(x_train, y_train), (x_test, y_test) = tf.keras.datasets.fashion_mnist.load_data()\n",
    "\n",
    "x_train = tf.expand_dims(tf.convert_to_tensor(x_train),-1)\n",
    "y_train = tf.expand_dims(tf.convert_to_tensor(y_train),-1)"
   ]
  },
  {
   "cell_type": "code",
   "execution_count": 4,
   "metadata": {},
   "outputs": [
    {
     "name": "stdout",
     "output_type": "stream",
     "text": [
      "Counter({9: 6000, 0: 6000, 3: 6000, 2: 6000, 7: 6000, 5: 6000, 1: 6000, 6: 6000, 4: 6000, 8: 6000})\n"
     ]
    }
   ],
   "source": [
    "class_count = Counter(np.array(tf.reshape(y_train, [60000,])))\n",
    "print(class_count)"
   ]
  },
  {
   "cell_type": "code",
   "execution_count": 5,
   "metadata": {},
   "outputs": [],
   "source": [
    "train_dataset = tf.data.Dataset.from_tensor_slices((x_train, y_train)).map(preprocessing.normalize).map(preprocessing.arcface_format).batch(config.BATCH_SIZE)\n",
    "test_dataset = tf.data.Dataset.from_tensor_slices((x_test, y_test)).map(preprocessing.normalize).map(preprocessing.arcface_format).batch(config.BATCH_SIZE)"
   ]
  },
  {
   "cell_type": "markdown",
   "metadata": {},
   "source": [
    "### Define model "
   ]
  },
  {
   "cell_type": "code",
   "execution_count": 6,
   "metadata": {},
   "outputs": [],
   "source": [
    "# from custom_layers.arcface_loss import ArcMarginProduct\n",
    "from custom_layers.subcenter_arcface_loss import SubcenterArcMarginProduct as ArcMarginProduct\n",
    "# allows 2 inputs and 2 outputs\n",
    "\n",
    "def get_debug_model(s = 10, m = .25):\n",
    " #------------------\n",
    "    # Definition of placeholders\n",
    "    inp = tf.keras.layers.Input(shape = config.INPUT_SIZE, name = 'inp1')\n",
    "    label = tf.keras.layers.Input(shape = (), name = 'inp2')\n",
    "\n",
    "    # Definition of layers\n",
    "    \n",
    "    #TODO: reasearch filters, get better understanding\n",
    "    layer_conv1 = tf.keras.layers.Conv2D(filters = 24, kernel_size = (2,2), input_shape = config.INPUT_SIZE, activation ='relu')\n",
    "    layer_pool1 = tf.keras.layers.MaxPool2D((2,2))\n",
    "    layer_conv2 = tf.keras.layers.Conv2D(filters = 12, kernel_size = (2,2), activation ='relu')\n",
    "    layer_pool2 = tf.keras.layers.MaxPool2D((2,2))\n",
    "    layer_flatten = tf.keras.layers.Flatten()\n",
    "    layer_dense1 = tf.keras.layers.Dense(config.MIDDLE_EMB)\n",
    "    # layer_dense2 = tf.keras.layers.Dense(config.NUM_CLASSES)\n",
    "    layer_arcface = ArcMarginProduct(n_classes=config.NUM_CLASSES, s=s, m=m)\n",
    "    layer_softmax = tf.keras.layers.Softmax(dtype='float16', name='head_output')\n",
    "\n",
    "    if config.MIDDLE_EMB != config.OUTPUT_EMB:\n",
    "        layer_adaptive_pooling = tfa.layers.AdaptiveAveragePooling1D(config.OUTPUT_EMB)\n",
    "    else:\n",
    "        layer_adaptive_pooling = tf.keras.layers.Lambda(lambda x: x)  # layer with no operation\n",
    "\n",
    "    #------------------\n",
    "    # Definition of entire model\n",
    "    backbone_output = layer_conv1(inp)\n",
    "    backbone_output = layer_pool1(backbone_output)\n",
    "    backbone_output = layer_conv2(backbone_output)\n",
    "    backbone_output = layer_pool2(backbone_output)\n",
    "    embed = layer_flatten(backbone_output)\n",
    "    embed = layer_dense1(embed)\n",
    "    \n",
    "    # Training head\n",
    "    # head_output = layer_dense2(embed)\n",
    "    head_output = layer_arcface((embed,label))\n",
    "    head_output = layer_softmax(head_output)\n",
    "    \n",
    "    # Inference\n",
    "    emb_output = layer_adaptive_pooling(embed)\n",
    "\n",
    "    model = tf.keras.models.Model(inputs = [(inp, label)], outputs = [head_output, emb_output]) # whole architecture\n",
    "\n",
    "    return model"
   ]
  },
  {
   "cell_type": "code",
   "execution_count": 7,
   "metadata": {},
   "outputs": [
    {
     "name": "stdout",
     "output_type": "stream",
     "text": [
      "(10, None)\n",
      "Model: \"model\"\n",
      "__________________________________________________________________________________________________\n",
      " Layer (type)                   Output Shape         Param #     Connected to                     \n",
      "==================================================================================================\n",
      " inp1 (InputLayer)              [(None, 28, 28, 1)]  0           []                               \n",
      "                                                                                                  \n",
      " conv2d (Conv2D)                (None, 27, 27, 24)   120         ['inp1[0][0]']                   \n",
      "                                                                                                  \n",
      " max_pooling2d (MaxPooling2D)   (None, 13, 13, 24)   0           ['conv2d[0][0]']                 \n",
      "                                                                                                  \n",
      " conv2d_1 (Conv2D)              (None, 12, 12, 12)   1164        ['max_pooling2d[0][0]']          \n",
      "                                                                                                  \n",
      " max_pooling2d_1 (MaxPooling2D)  (None, 6, 6, 12)    0           ['conv2d_1[0][0]']               \n",
      "                                                                                                  \n",
      " flatten (Flatten)              (None, 432)          0           ['max_pooling2d_1[0][0]']        \n",
      "                                                                                                  \n",
      " dense (Dense)                  (None, 256)          110848      ['flatten[0][0]']                \n",
      "                                                                                                  \n",
      " inp2 (InputLayer)              [(None,)]            0           []                               \n",
      "                                                                                                  \n",
      " subcenter_arc_margin_product (  (None, 10)          7680        ['dense[0][0]',                  \n",
      " SubcenterArcMarginProduct)                                       'inp2[0][0]']                   \n",
      "                                                                                                  \n",
      " head_output (Softmax)          (None, 10)           0           ['subcenter_arc_margin_product[0]\n",
      "                                                                 [0]']                            \n",
      "                                                                                                  \n",
      " adaptive_average_pooling1d (Ad  (None, 64)          0           ['dense[0][0]']                  \n",
      " aptiveAveragePooling1D)                                                                          \n",
      "                                                                                                  \n",
      "==================================================================================================\n",
      "Total params: 119,812\n",
      "Trainable params: 119,812\n",
      "Non-trainable params: 0\n",
      "__________________________________________________________________________________________________\n"
     ]
    }
   ],
   "source": [
    "debug_model = get_debug_model(s=10, m =.4)\n",
    "debug_model.summary()"
   ]
  },
  {
   "cell_type": "code",
   "execution_count": 8,
   "metadata": {},
   "outputs": [
    {
     "name": "stdout",
     "output_type": "stream",
     "text": [
      "2 10\n"
     ]
    }
   ],
   "source": [
    "debug_model.compile(\n",
    "        optimizer = tf.keras.optimizers.Adam(learning_rate = config.LR),\n",
    "        loss = {'head_output':tf.keras.losses.SparseCategoricalCrossentropy(from_logits=False)},\n",
    "        metrics = {'head_output':[tf.keras.metrics.SparseCategoricalAccuracy(),tf.keras.metrics.SparseTopKCategoricalAccuracy(k=3)]},\n",
    "        )\n",
    "\n",
    "steps_per_epoch = len(train_dataset) // config.BATCH_SIZE  // 20     # \"//20\" means that the lr is update every 0.1 epoch.\n",
    "validation_steps = len(test_dataset) // config.BATCH_SIZE\n",
    "if len(test_dataset) % config.BATCH_SIZE != 0:\n",
    "    validation_steps += 1\n",
    "print(steps_per_epoch, validation_steps)"
   ]
  },
  {
   "cell_type": "markdown",
   "metadata": {},
   "source": [
    "### Callbacks"
   ]
  },
  {
   "cell_type": "code",
   "execution_count": 9,
   "metadata": {},
   "outputs": [],
   "source": [
    "# tensorboard\n",
    "\n",
    "log_dir = \"logs/fit/\" + datetime.now().strftime(\"%Y%m%d-%H%M%S\")\n",
    "tensorboard_callback = tf.keras.callbacks.TensorBoard(log_dir=log_dir, histogram_freq=1,\n",
    "                        #  write_graph=True,\n",
    "                        #  write_images=True,\n",
    "                        update_freq='epoch',\n",
    "                        #  profile_batch=2,\n",
    "                        #  embeddings_freq=1\n",
    "                        )\n",
    "\n",
    "#emb_callback = call_backs.EmbeddingCallback(x_test, y_test, save_dir = log_dir+'/emb/', embedding_dim = config.OUTPUT_EMB)"
   ]
  },
  {
   "cell_type": "markdown",
   "metadata": {},
   "source": [
    "### Training"
   ]
  },
  {
   "cell_type": "code",
   "execution_count": 10,
   "metadata": {},
   "outputs": [
    {
     "name": "stdout",
     "output_type": "stream",
     "text": [
      "Epoch 1/5\n",
      "(10, None)\n",
      "(10, None)\n",
      "1873/1875 [============================>.] - ETA: 0s - loss: 6.7431 - head_output_loss: 6.7431 - head_output_sparse_categorical_accuracy: 0.0000e+00 - head_output_sparse_top_k_categorical_accuracy: 0.0000e+00(10, None)\n",
      "1875/1875 [==============================] - 26s 13ms/step - loss: 6.7428 - head_output_loss: 6.7428 - head_output_sparse_categorical_accuracy: 0.0000e+00 - head_output_sparse_top_k_categorical_accuracy: 0.0000e+00 - val_loss: 6.3988 - val_head_output_loss: 6.3988 - val_head_output_sparse_categorical_accuracy: 0.0000e+00 - val_head_output_sparse_top_k_categorical_accuracy: 0.0000e+00\n",
      "Epoch 2/5\n",
      "1875/1875 [==============================] - 22s 12ms/step - loss: 6.2654 - head_output_loss: 6.2654 - head_output_sparse_categorical_accuracy: 0.0000e+00 - head_output_sparse_top_k_categorical_accuracy: 0.0000e+00 - val_loss: 6.1340 - val_head_output_loss: 6.1340 - val_head_output_sparse_categorical_accuracy: 0.0000e+00 - val_head_output_sparse_top_k_categorical_accuracy: 0.0000e+00\n",
      "Epoch 3/5\n",
      "1875/1875 [==============================] - 23s 12ms/step - loss: 6.0819 - head_output_loss: 6.0819 - head_output_sparse_categorical_accuracy: 0.0000e+00 - head_output_sparse_top_k_categorical_accuracy: 0.0000e+00 - val_loss: 5.9977 - val_head_output_loss: 5.9977 - val_head_output_sparse_categorical_accuracy: 0.0000e+00 - val_head_output_sparse_top_k_categorical_accuracy: 0.0000e+00\n",
      "Epoch 4/5\n",
      "1875/1875 [==============================] - 22s 12ms/step - loss: 5.9739 - head_output_loss: 5.9739 - head_output_sparse_categorical_accuracy: 0.0000e+00 - head_output_sparse_top_k_categorical_accuracy: 0.0000e+00 - val_loss: 5.9105 - val_head_output_loss: 5.9105 - val_head_output_sparse_categorical_accuracy: 0.0000e+00 - val_head_output_sparse_top_k_categorical_accuracy: 0.0000e+00\n",
      "Epoch 5/5\n",
      "1875/1875 [==============================] - 22s 12ms/step - loss: 5.9017 - head_output_loss: 5.9017 - head_output_sparse_categorical_accuracy: 0.0000e+00 - head_output_sparse_top_k_categorical_accuracy: 0.0000e+00 - val_loss: 5.8520 - val_head_output_loss: 5.8520 - val_head_output_sparse_categorical_accuracy: 0.0000e+00 - val_head_output_sparse_top_k_categorical_accuracy: 0.0000e+00\n"
     ]
    }
   ],
   "source": [
    "history = debug_model.fit(\n",
    "        train_dataset,\n",
    "        epochs=5,\n",
    "        validation_steps = validation_steps,\n",
    "        validation_data = test_dataset,\n",
    "        verbose=1,\n",
    "        #callbacks=[tensorboard_callback]\n",
    "    )"
   ]
  },
  {
   "cell_type": "code",
   "execution_count": 11,
   "metadata": {},
   "outputs": [
    {
     "name": "stdout",
     "output_type": "stream",
     "text": [
      "Test examples: 10000\n",
      "(10, None)\n",
      "313/313 [==============================] - 2s 6ms/step\n"
     ]
    }
   ],
   "source": [
    "print(\"Test examples:\",len(x_test))\n",
    "pred_class, pred_emb = debug_model.predict((x_test, y_test))  # I don't like this, fix it (hacky way would be y test of -1s if non given)\n",
    "\n",
    "# argmax returns largest element's index\n",
    "pred_class = tf.argmax(pred_class, axis=1)\n",
    "true_class = y_test"
   ]
  },
  {
   "cell_type": "code",
   "execution_count": 12,
   "metadata": {},
   "outputs": [],
   "source": [
    "confusion_matrix = {}\n",
    "embedding_data = []\n",
    "\n",
    "for i in range(config.NUM_CLASSES):\n",
    "    confusion_matrix[i] = {}\n",
    "    for ii in range(config.NUM_CLASSES):\n",
    "        confusion_matrix[i][ii] = 0\n",
    "\n",
    "from annoy import AnnoyIndex\n",
    "tree = AnnoyIndex(config.OUTPUT_EMB, 'euclidean')\n",
    "\n",
    "for i,pred_tensor, y_array, embedding in zip(range(len(true_class)),pred_class,true_class,pred_emb):\n",
    "    # come out in annoying type\n",
    "    pred = int(pred_tensor)\n",
    "    y = int(y_array)\n",
    "\n",
    "    tree.add_item(i, embedding)\n",
    "\n",
    "    assert y < config.NUM_CLASSES and pred < config.NUM_CLASSES\n",
    "    embedding_data.append({'annoy_idx':i,'true_class':y,'pred_class':pred,'embedding':embedding})\n",
    "    confusion_matrix[y][pred]+=1"
   ]
  },
  {
   "cell_type": "code",
   "execution_count": 13,
   "metadata": {},
   "outputs": [],
   "source": [
    "# import matplotlib.pyplot as plt\n",
    "# cm_df = pd.DataFrame(confusion_matrix)\n",
    "\n",
    "# fig, ax = plt.subplots(figsize=(4,6))\n",
    "# ax.matshow(cm_df, cmap=plt.cm.Reds, alpha=0.7)\n",
    "# for i in range(cm_df.shape[0]):\n",
    "#     for j in range(cm_df.shape[1]):\n",
    "#         ax.text(x=j, y=i,s=cm_df[i][j], va='center', ha='center', size='large')\n",
    " \n",
    "# plt.xlabel('Predictions', fontsize=18)\n",
    "# plt.ylabel('Actuals', fontsize=18)\n",
    "# plt.title('Confusion Matrix', fontsize=18)\n",
    "# plt.show()"
   ]
  },
  {
   "cell_type": "code",
   "execution_count": 14,
   "metadata": {},
   "outputs": [
    {
     "data": {
      "text/html": [
       "<div>\n",
       "<style scoped>\n",
       "    .dataframe tbody tr th:only-of-type {\n",
       "        vertical-align: middle;\n",
       "    }\n",
       "\n",
       "    .dataframe tbody tr th {\n",
       "        vertical-align: top;\n",
       "    }\n",
       "\n",
       "    .dataframe thead th {\n",
       "        text-align: right;\n",
       "    }\n",
       "</style>\n",
       "<table border=\"1\" class=\"dataframe\">\n",
       "  <thead>\n",
       "    <tr style=\"text-align: right;\">\n",
       "      <th></th>\n",
       "      <th>annoy_idx</th>\n",
       "      <th>true_class</th>\n",
       "      <th>pred_class</th>\n",
       "      <th>embedding</th>\n",
       "    </tr>\n",
       "  </thead>\n",
       "  <tbody>\n",
       "    <tr>\n",
       "      <th>0</th>\n",
       "      <td>0</td>\n",
       "      <td>9</td>\n",
       "      <td>5</td>\n",
       "      <td>[7.1033363, 15.89732, -5.028651, -10.257683, -...</td>\n",
       "    </tr>\n",
       "    <tr>\n",
       "      <th>1</th>\n",
       "      <td>1</td>\n",
       "      <td>2</td>\n",
       "      <td>4</td>\n",
       "      <td>[9.250469, 12.162376, 15.891676, -9.463962, -3...</td>\n",
       "    </tr>\n",
       "    <tr>\n",
       "      <th>2</th>\n",
       "      <td>2</td>\n",
       "      <td>1</td>\n",
       "      <td>3</td>\n",
       "      <td>[-3.8861332, -14.644924, -20.623096, 18.95991,...</td>\n",
       "    </tr>\n",
       "    <tr>\n",
       "      <th>3</th>\n",
       "      <td>3</td>\n",
       "      <td>1</td>\n",
       "      <td>3</td>\n",
       "      <td>[-2.6930714, -12.675936, -32.222614, 20.721607...</td>\n",
       "    </tr>\n",
       "    <tr>\n",
       "      <th>4</th>\n",
       "      <td>4</td>\n",
       "      <td>6</td>\n",
       "      <td>2</td>\n",
       "      <td>[-3.187432, 6.86291, 3.0866914, -10.591633, 1....</td>\n",
       "    </tr>\n",
       "  </tbody>\n",
       "</table>\n",
       "</div>"
      ],
      "text/plain": [
       "   annoy_idx  true_class  pred_class  \\\n",
       "0          0           9           5   \n",
       "1          1           2           4   \n",
       "2          2           1           3   \n",
       "3          3           1           3   \n",
       "4          4           6           2   \n",
       "\n",
       "                                           embedding  \n",
       "0  [7.1033363, 15.89732, -5.028651, -10.257683, -...  \n",
       "1  [9.250469, 12.162376, 15.891676, -9.463962, -3...  \n",
       "2  [-3.8861332, -14.644924, -20.623096, 18.95991,...  \n",
       "3  [-2.6930714, -12.675936, -32.222614, 20.721607...  \n",
       "4  [-3.187432, 6.86291, 3.0866914, -10.591633, 1....  "
      ]
     },
     "execution_count": 14,
     "metadata": {},
     "output_type": "execute_result"
    }
   ],
   "source": [
    "emb_df = pd.DataFrame(embedding_data)\n",
    "emb_df.head()"
   ]
  },
  {
   "cell_type": "code",
   "execution_count": 15,
   "metadata": {},
   "outputs": [],
   "source": [
    "def dist_to_origin(embedding):\n",
    "    return np.sqrt(np.dot(embedding,embedding))\n",
    "\n",
    "emb_df['length']=emb_df['embedding'].apply(dist_to_origin)\n",
    "emb_df['normed_embeddings']=emb_df['embedding']/emb_df['length']"
   ]
  },
  {
   "cell_type": "code",
   "execution_count": 16,
   "metadata": {},
   "outputs": [
    {
     "data": {
      "text/plain": [
       "True"
      ]
     },
     "execution_count": 16,
     "metadata": {},
     "output_type": "execute_result"
    }
   ],
   "source": [
    "tree.build(20)"
   ]
  },
  {
   "cell_type": "code",
   "execution_count": 17,
   "metadata": {},
   "outputs": [],
   "source": [
    "def n_neighbors(annoy_idx, neighbor_count=5):\n",
    "    # the closest embedding is always the same exact embedding, must exclu\n",
    "    neighbor_count+=1\n",
    "    return tree.get_nns_by_item(annoy_idx, neighbor_count)[1:]\n",
    "\n",
    "def neighbor_classes(row, emb_df, true_classes = True):\n",
    "    if true_classes:\n",
    "        get_column = 'true_class'\n",
    "    else:\n",
    "        get_column = 'pred_class'\n",
    "    return emb_df.loc[emb_df['annoy_idx'].isin(row.nearest_neighbors),get_column].to_list()\n",
    "    \n",
    "def matching_neighbors(row, true_classes = True):\n",
    "    if true_classes:\n",
    "        neighbor_class_col = 'neighbor_classes'\n",
    "        get_column = 'true_class'\n",
    "    else:\n",
    "        neighbor_class_col = 'neighbor_pred_classes'\n",
    "        get_column = 'pred_class'\n",
    "    return len([True for neighbor_class in row[neighbor_class_col] if row[get_column] == neighbor_class])\n",
    "\n",
    "emb_df['nearest_neighbors'] = emb_df['annoy_idx'].apply(n_neighbors)\n",
    "emb_df['neighbor_classes'] = emb_df.apply(lambda row: neighbor_classes(row,emb_df,true_classes=True), axis=1)\n",
    "emb_df['neighbor_pred_classes'] = emb_df.apply(lambda row: neighbor_classes(row,emb_df,true_classes=False), axis=1)\n",
    "emb_df['matching_neighbors'] = emb_df.apply(lambda row: matching_neighbors(row,true_classes=True), axis=1)\n",
    "emb_df['matching_neighbor_preds'] = emb_df.apply(lambda row: matching_neighbors(row,true_classes=False), axis=1)"
   ]
  },
  {
   "cell_type": "code",
   "execution_count": 18,
   "metadata": {},
   "outputs": [
    {
     "data": {
      "text/html": [
       "<div>\n",
       "<style scoped>\n",
       "    .dataframe tbody tr th:only-of-type {\n",
       "        vertical-align: middle;\n",
       "    }\n",
       "\n",
       "    .dataframe tbody tr th {\n",
       "        vertical-align: top;\n",
       "    }\n",
       "\n",
       "    .dataframe thead th {\n",
       "        text-align: right;\n",
       "    }\n",
       "</style>\n",
       "<table border=\"1\" class=\"dataframe\">\n",
       "  <thead>\n",
       "    <tr style=\"text-align: right;\">\n",
       "      <th></th>\n",
       "      <th>annoy_idx</th>\n",
       "      <th>true_class</th>\n",
       "      <th>pred_class</th>\n",
       "      <th>embedding</th>\n",
       "      <th>length</th>\n",
       "      <th>normed_embeddings</th>\n",
       "      <th>nearest_neighbors</th>\n",
       "      <th>neighbor_classes</th>\n",
       "      <th>neighbor_pred_classes</th>\n",
       "      <th>matching_neighbors</th>\n",
       "      <th>matching_neighbor_preds</th>\n",
       "    </tr>\n",
       "  </thead>\n",
       "  <tbody>\n",
       "    <tr>\n",
       "      <th>0</th>\n",
       "      <td>0</td>\n",
       "      <td>9</td>\n",
       "      <td>5</td>\n",
       "      <td>[7.1033363, 15.89732, -5.028651, -10.257683, -...</td>\n",
       "      <td>114.949707</td>\n",
       "      <td>[0.061795168, 0.13829805, -0.043746535, -0.089...</td>\n",
       "      <td>[9363, 2802, 163, 2874, 5788]</td>\n",
       "      <td>[9, 9, 9, 9, 9]</td>\n",
       "      <td>[5, 7, 5, 5, 5]</td>\n",
       "      <td>5</td>\n",
       "      <td>4</td>\n",
       "    </tr>\n",
       "    <tr>\n",
       "      <th>1</th>\n",
       "      <td>1</td>\n",
       "      <td>2</td>\n",
       "      <td>4</td>\n",
       "      <td>[9.250469, 12.162376, 15.891676, -9.463962, -3...</td>\n",
       "      <td>93.477638</td>\n",
       "      <td>[0.09895917, 0.13011001, 0.17000511, -0.101243...</td>\n",
       "      <td>[2505, 4150, 3471, 5255, 5465]</td>\n",
       "      <td>[2, 4, 2, 4, 2]</td>\n",
       "      <td>[4, 2, 4, 2, 4]</td>\n",
       "      <td>3</td>\n",
       "      <td>3</td>\n",
       "    </tr>\n",
       "    <tr>\n",
       "      <th>2</th>\n",
       "      <td>2</td>\n",
       "      <td>1</td>\n",
       "      <td>3</td>\n",
       "      <td>[-3.8861332, -14.644924, -20.623096, 18.95991,...</td>\n",
       "      <td>145.679718</td>\n",
       "      <td>[-0.02667587, -0.10052823, -0.14156464, 0.1301...</td>\n",
       "      <td>[8867, 8874, 2406, 7054, 8400]</td>\n",
       "      <td>[1, 1, 1, 1, 1]</td>\n",
       "      <td>[3, 3, 3, 3, 3]</td>\n",
       "      <td>5</td>\n",
       "      <td>5</td>\n",
       "    </tr>\n",
       "    <tr>\n",
       "      <th>3</th>\n",
       "      <td>3</td>\n",
       "      <td>1</td>\n",
       "      <td>3</td>\n",
       "      <td>[-2.6930714, -12.675936, -32.222614, 20.721607...</td>\n",
       "      <td>144.502258</td>\n",
       "      <td>[-0.01863688, -0.08772137, -0.22299038, 0.1433...</td>\n",
       "      <td>[2460, 9818, 9427, 1397, 2251]</td>\n",
       "      <td>[1, 1, 1, 1, 1]</td>\n",
       "      <td>[3, 3, 3, 3, 3]</td>\n",
       "      <td>5</td>\n",
       "      <td>5</td>\n",
       "    </tr>\n",
       "    <tr>\n",
       "      <th>4</th>\n",
       "      <td>4</td>\n",
       "      <td>6</td>\n",
       "      <td>2</td>\n",
       "      <td>[-3.187432, 6.86291, 3.0866914, -10.591633, 1....</td>\n",
       "      <td>63.151390</td>\n",
       "      <td>[-0.050472874, 0.10867393, 0.04887765, -0.1677...</td>\n",
       "      <td>[3277, 8091, 3754, 1867, 3727]</td>\n",
       "      <td>[0, 0, 6, 0, 0]</td>\n",
       "      <td>[2, 2, 2, 2, 2]</td>\n",
       "      <td>1</td>\n",
       "      <td>5</td>\n",
       "    </tr>\n",
       "  </tbody>\n",
       "</table>\n",
       "</div>"
      ],
      "text/plain": [
       "   annoy_idx  true_class  pred_class  \\\n",
       "0          0           9           5   \n",
       "1          1           2           4   \n",
       "2          2           1           3   \n",
       "3          3           1           3   \n",
       "4          4           6           2   \n",
       "\n",
       "                                           embedding      length  \\\n",
       "0  [7.1033363, 15.89732, -5.028651, -10.257683, -...  114.949707   \n",
       "1  [9.250469, 12.162376, 15.891676, -9.463962, -3...   93.477638   \n",
       "2  [-3.8861332, -14.644924, -20.623096, 18.95991,...  145.679718   \n",
       "3  [-2.6930714, -12.675936, -32.222614, 20.721607...  144.502258   \n",
       "4  [-3.187432, 6.86291, 3.0866914, -10.591633, 1....   63.151390   \n",
       "\n",
       "                                   normed_embeddings  \\\n",
       "0  [0.061795168, 0.13829805, -0.043746535, -0.089...   \n",
       "1  [0.09895917, 0.13011001, 0.17000511, -0.101243...   \n",
       "2  [-0.02667587, -0.10052823, -0.14156464, 0.1301...   \n",
       "3  [-0.01863688, -0.08772137, -0.22299038, 0.1433...   \n",
       "4  [-0.050472874, 0.10867393, 0.04887765, -0.1677...   \n",
       "\n",
       "                nearest_neighbors neighbor_classes neighbor_pred_classes  \\\n",
       "0   [9363, 2802, 163, 2874, 5788]  [9, 9, 9, 9, 9]       [5, 7, 5, 5, 5]   \n",
       "1  [2505, 4150, 3471, 5255, 5465]  [2, 4, 2, 4, 2]       [4, 2, 4, 2, 4]   \n",
       "2  [8867, 8874, 2406, 7054, 8400]  [1, 1, 1, 1, 1]       [3, 3, 3, 3, 3]   \n",
       "3  [2460, 9818, 9427, 1397, 2251]  [1, 1, 1, 1, 1]       [3, 3, 3, 3, 3]   \n",
       "4  [3277, 8091, 3754, 1867, 3727]  [0, 0, 6, 0, 0]       [2, 2, 2, 2, 2]   \n",
       "\n",
       "   matching_neighbors  matching_neighbor_preds  \n",
       "0                   5                        4  \n",
       "1                   3                        3  \n",
       "2                   5                        5  \n",
       "3                   5                        5  \n",
       "4                   1                        5  "
      ]
     },
     "execution_count": 18,
     "metadata": {},
     "output_type": "execute_result"
    }
   ],
   "source": [
    "emb_df.head()"
   ]
  },
  {
   "cell_type": "code",
   "execution_count": 19,
   "metadata": {},
   "outputs": [],
   "source": [
    "def competition_score(emb_df, neighbor_count):\n",
    "    # Average of (correct neighbors / looked at neighbors)\n",
    "    # ex: 1/N * (  sum(  1/neighbor_count * per_item_match_count  )  ) = 1/N * ( 1/neighbor_count * total_match_count)\n",
    "    total_matches = emb_df['matching_neighbors'].sum()\n",
    "    score = total_matches / (neighbor_count * len(emb_df))\n",
    "    return score"
   ]
  },
  {
   "cell_type": "code",
   "execution_count": 20,
   "metadata": {},
   "outputs": [
    {
     "data": {
      "text/plain": [
       "0.75262"
      ]
     },
     "execution_count": 20,
     "metadata": {},
     "output_type": "execute_result"
    }
   ],
   "source": [
    "competition_score(emb_df,5)"
   ]
  },
  {
   "cell_type": "code",
   "execution_count": 21,
   "metadata": {},
   "outputs": [],
   "source": [
    "emb_df['correct_prediction'] = emb_df['true_class']==emb_df['pred_class']"
   ]
  },
  {
   "cell_type": "code",
   "execution_count": 22,
   "metadata": {},
   "outputs": [
    {
     "name": "stdout",
     "output_type": "stream",
     "text": [
      "False    10000\n",
      "Name: correct_prediction, dtype: int64\n"
     ]
    }
   ],
   "source": [
    "print(emb_df['correct_prediction'].value_counts())"
   ]
  },
  {
   "cell_type": "code",
   "execution_count": 23,
   "metadata": {},
   "outputs": [
    {
     "data": {
      "text/plain": [
       "5    4541\n",
       "4    1727\n",
       "3    1351\n",
       "2    1065\n",
       "1     786\n",
       "0     530\n",
       "Name: matching_neighbor_preds, dtype: int64"
      ]
     },
     "execution_count": 23,
     "metadata": {},
     "output_type": "execute_result"
    }
   ],
   "source": [
    "emb_df['matching_neighbor_preds'].value_counts()"
   ]
  },
  {
   "cell_type": "code",
   "execution_count": 24,
   "metadata": {},
   "outputs": [
    {
     "data": {
      "text/plain": [
       "5    5330\n",
       "4    1371\n",
       "3    1012\n",
       "2     857\n",
       "1     747\n",
       "0     683\n",
       "Name: matching_neighbors, dtype: int64"
      ]
     },
     "execution_count": 24,
     "metadata": {},
     "output_type": "execute_result"
    }
   ],
   "source": [
    "emb_df['matching_neighbors'].value_counts()"
   ]
  },
  {
   "cell_type": "code",
   "execution_count": null,
   "metadata": {},
   "outputs": [],
   "source": []
  }
 ],
 "metadata": {
  "kernelspec": {
   "display_name": "Python 3.10.8 64-bit",
   "language": "python",
   "name": "python3"
  },
  "language_info": {
   "codemirror_mode": {
    "name": "ipython",
    "version": 3
   },
   "file_extension": ".py",
   "mimetype": "text/x-python",
   "name": "python",
   "nbconvert_exporter": "python",
   "pygments_lexer": "ipython3",
   "version": "3.10.8"
  },
  "orig_nbformat": 4,
  "vscode": {
   "interpreter": {
    "hash": "8f2aafffe541dce4fbde971e590718b403cdb167c5dc463f7f3d3005ad40d44b"
   }
  }
 },
 "nbformat": 4,
 "nbformat_minor": 2
}
