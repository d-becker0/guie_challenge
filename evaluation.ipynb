{
 "cells": [
  {
   "cell_type": "code",
   "execution_count": 1,
   "metadata": {},
   "outputs": [],
   "source": [
    "import os\n",
    "import random\n",
    "from datetime import datetime\n",
    "from collections import Counter\n",
    "\n",
    "import numpy as np\n",
    "import pandas as pd\n",
    "import tensorflow as tf\n",
    "import tensorflow_addons as tfa\n",
    "\n",
    "from utils import call_backs, misc, preprocessing\n",
    "from custom_layers.arcface_loss import ArcMarginProduct"
   ]
  },
  {
   "cell_type": "markdown",
   "metadata": {},
   "source": [
    "### Config"
   ]
  },
  {
   "cell_type": "code",
   "execution_count": 2,
   "metadata": {},
   "outputs": [],
   "source": [
    "class config:\n",
    "    # GENERAL\n",
    "    RANDOM_SEED = 5\n",
    "    TENSOR_LOG_DIR = 'logs'\n",
    "    SAVE_DIR = 'saved_models'\n",
    "\n",
    "    # DATA\n",
    "    INPUT_SIZE = (28,28,1)\n",
    "    NUM_CLASSES = 10\n",
    "\n",
    "    # MODEL\n",
    "    OUTPUT_EMB = 64\n",
    "    MIDDLE_EMB = 256\n",
    "\n",
    "    # TRAINING\n",
    "    BATCH_SIZE = 32\n",
    "    LR = .000005\n",
    "\n",
    "misc.seed_everything(config.RANDOM_SEED)"
   ]
  },
  {
   "cell_type": "markdown",
   "metadata": {},
   "source": [
    "### Load dataset"
   ]
  },
  {
   "cell_type": "code",
   "execution_count": 3,
   "metadata": {},
   "outputs": [],
   "source": [
    "(x_train, y_train), (x_test, y_test) = tf.keras.datasets.fashion_mnist.load_data()\n",
    "\n",
    "x_train = tf.expand_dims(tf.convert_to_tensor(x_train),-1)\n",
    "y_train = tf.expand_dims(tf.convert_to_tensor(y_train),-1)"
   ]
  },
  {
   "cell_type": "code",
   "execution_count": 4,
   "metadata": {},
   "outputs": [
    {
     "data": {
      "text/plain": [
       "TensorShape([60000, 1])"
      ]
     },
     "execution_count": 4,
     "metadata": {},
     "output_type": "execute_result"
    }
   ],
   "source": [
    "y_train.shape"
   ]
  },
  {
   "cell_type": "code",
   "execution_count": 5,
   "metadata": {},
   "outputs": [
    {
     "name": "stdout",
     "output_type": "stream",
     "text": [
      "Counter({9: 6000, 0: 6000, 3: 6000, 2: 6000, 7: 6000, 5: 6000, 1: 6000, 6: 6000, 4: 6000, 8: 6000})\n"
     ]
    }
   ],
   "source": [
    "class_count = Counter(np.array(tf.reshape(y_train, [60000,])))\n",
    "print(class_count)"
   ]
  },
  {
   "cell_type": "code",
   "execution_count": 6,
   "metadata": {},
   "outputs": [],
   "source": [
    "train_dataset = tf.data.Dataset.from_tensor_slices((x_train, y_train)).map(preprocessing.normalize).map(preprocessing.arcface_format).batch(config.BATCH_SIZE)\n",
    "test_dataset = tf.data.Dataset.from_tensor_slices((x_test, y_test)).map(preprocessing.normalize).map(preprocessing.arcface_format).batch(config.BATCH_SIZE)"
   ]
  },
  {
   "cell_type": "markdown",
   "metadata": {},
   "source": [
    "### Define model "
   ]
  },
  {
   "cell_type": "code",
   "execution_count": 7,
   "metadata": {},
   "outputs": [],
   "source": [
    "from custom_layers.arcface_loss import ArcMarginProduct\n",
    "# allows 2 inputs and 2 outputs\n",
    "\n",
    "def get_debug_model(s = 10, m = .25):\n",
    " #------------------\n",
    "    # Definition of placeholders\n",
    "    inp = tf.keras.layers.Input(shape = config.INPUT_SIZE, name = 'inp1')\n",
    "    label = tf.keras.layers.Input(shape = (), name = 'inp2')\n",
    "\n",
    "    # Definition of layers\n",
    "    \n",
    "    #TODO: reasearch filters, get better understanding\n",
    "    layer_conv1 = tf.keras.layers.Conv2D(filters = 24, kernel_size = (2,2), input_shape = config.INPUT_SIZE, activation ='relu')\n",
    "    layer_pool1 = tf.keras.layers.MaxPool2D((2,2))\n",
    "    layer_conv2 = tf.keras.layers.Conv2D(filters = 12, kernel_size = (2,2), activation ='relu')\n",
    "    layer_pool2 = tf.keras.layers.MaxPool2D((2,2))\n",
    "    # layer_conv3 = tf.keras.layers.Conv2D(filters = 8, kernel_size = (2,2), activation ='relu')\n",
    "    # layer_pool3 = tf.keras.layers.MaxPool2D((2,2))\n",
    "    layer_flatten = tf.keras.layers.Flatten()\n",
    "    layer_dense1 = tf.keras.layers.Dense(config.MIDDLE_EMB)\n",
    "    # layer_dense2 = tf.keras.layers.Dense(config.NUM_CLASSES)\n",
    "    layer_arcface = ArcMarginProduct(n_classes=config.NUM_CLASSES, s=s, m=m)\n",
    "    layer_softmax = tf.keras.layers.Softmax(dtype='float16', name='head_output')\n",
    "\n",
    "    if config.MIDDLE_EMB != config.OUTPUT_EMB:\n",
    "        layer_adaptive_pooling = tfa.layers.AdaptiveAveragePooling1D(config.OUTPUT_EMB)\n",
    "    else:\n",
    "        layer_adaptive_pooling = tf.keras.layers.Lambda(lambda x: x)  # layer with no operation\n",
    "\n",
    "    #------------------\n",
    "    # Definition of entire model      --- w/o arcface accuracy is ~.87, try to get at least close to that\n",
    "    backbone_output = layer_conv1(inp)\n",
    "    backbone_output = layer_pool1(backbone_output)\n",
    "    backbone_output = layer_conv2(backbone_output)\n",
    "    backbone_output = layer_pool2(backbone_output)\n",
    "    embed = layer_flatten(backbone_output)\n",
    "    embed = layer_dense1(embed)\n",
    "    \n",
    "    # Training head\n",
    "    # head_output = layer_dense2(embed)\n",
    "    head_output = layer_arcface(embed)\n",
    "    head_output = layer_softmax(head_output)\n",
    "    \n",
    "    # Inference\n",
    "    emb_output = layer_adaptive_pooling(embed)\n",
    "\n",
    "    model = tf.keras.models.Model(inputs = [(inp, label)], outputs = [head_output, emb_output]) # whole architecture\n",
    "\n",
    "    return model"
   ]
  },
  {
   "cell_type": "code",
   "execution_count": 8,
   "metadata": {},
   "outputs": [
    {
     "ename": "OperatorNotAllowedInGraphError",
     "evalue": "Exception encountered when calling layer \"arc_margin_product\" (type ArcMarginProduct).\n\nin user code:\n\n    File \"c:\\Users\\Jack\\Desktop\\GUIE\\guie_challenge\\guie_challenge\\custom_layers\\arcface_loss.py\", line 51, in call  *\n        X, y = inputs #\n\n    OperatorNotAllowedInGraphError: Iterating over a symbolic `tf.Tensor` is not allowed in Graph execution. Use Eager execution or decorate this function with @tf.function.\n\n\nCall arguments received by layer \"arc_margin_product\" (type ArcMarginProduct):\n  • inputs=tf.Tensor(shape=(None, 256), dtype=float32)",
     "output_type": "error",
     "traceback": [
      "\u001b[1;31m---------------------------------------------------------------------------\u001b[0m",
      "\u001b[1;31mOperatorNotAllowedInGraphError\u001b[0m            Traceback (most recent call last)",
      "Cell \u001b[1;32mIn [8], line 1\u001b[0m\n\u001b[1;32m----> 1\u001b[0m debug_model \u001b[39m=\u001b[39m get_debug_model(s\u001b[39m=\u001b[39;49m\u001b[39m32\u001b[39;49m, m \u001b[39m=\u001b[39;49m \u001b[39m.15\u001b[39;49m)\n\u001b[0;32m      2\u001b[0m debug_model\u001b[39m.\u001b[39msummary()\n",
      "Cell \u001b[1;32mIn [7], line 41\u001b[0m, in \u001b[0;36mget_debug_model\u001b[1;34m(s, m)\u001b[0m\n\u001b[0;32m     37\u001b[0m embed \u001b[39m=\u001b[39m layer_dense1(embed)\n\u001b[0;32m     39\u001b[0m \u001b[39m# Training head\u001b[39;00m\n\u001b[0;32m     40\u001b[0m \u001b[39m# head_output = layer_dense2(embed)\u001b[39;00m\n\u001b[1;32m---> 41\u001b[0m head_output \u001b[39m=\u001b[39m layer_arcface(embed)\n\u001b[0;32m     42\u001b[0m head_output \u001b[39m=\u001b[39m layer_softmax(head_output)\n\u001b[0;32m     44\u001b[0m \u001b[39m# Inference\u001b[39;00m\n",
      "File \u001b[1;32mc:\\Users\\Jack\\AppData\\Local\\Programs\\Python\\Python310\\lib\\site-packages\\keras\\utils\\traceback_utils.py:70\u001b[0m, in \u001b[0;36mfilter_traceback.<locals>.error_handler\u001b[1;34m(*args, **kwargs)\u001b[0m\n\u001b[0;32m     67\u001b[0m     filtered_tb \u001b[39m=\u001b[39m _process_traceback_frames(e\u001b[39m.\u001b[39m__traceback__)\n\u001b[0;32m     68\u001b[0m     \u001b[39m# To get the full stack trace, call:\u001b[39;00m\n\u001b[0;32m     69\u001b[0m     \u001b[39m# `tf.debugging.disable_traceback_filtering()`\u001b[39;00m\n\u001b[1;32m---> 70\u001b[0m     \u001b[39mraise\u001b[39;00m e\u001b[39m.\u001b[39mwith_traceback(filtered_tb) \u001b[39mfrom\u001b[39;00m \u001b[39mNone\u001b[39m\n\u001b[0;32m     71\u001b[0m \u001b[39mfinally\u001b[39;00m:\n\u001b[0;32m     72\u001b[0m     \u001b[39mdel\u001b[39;00m filtered_tb\n",
      "File \u001b[1;32mc:\\Users\\Jack\\AppData\\Local\\Programs\\Python\\Python310\\lib\\site-packages\\tensorflow\\python\\autograph\\impl\\api.py:692\u001b[0m, in \u001b[0;36mconvert.<locals>.decorator.<locals>.wrapper\u001b[1;34m(*args, **kwargs)\u001b[0m\n\u001b[0;32m    690\u001b[0m \u001b[39mexcept\u001b[39;00m \u001b[39mException\u001b[39;00m \u001b[39mas\u001b[39;00m e:  \u001b[39m# pylint:disable=broad-except\u001b[39;00m\n\u001b[0;32m    691\u001b[0m   \u001b[39mif\u001b[39;00m \u001b[39mhasattr\u001b[39m(e, \u001b[39m'\u001b[39m\u001b[39mag_error_metadata\u001b[39m\u001b[39m'\u001b[39m):\n\u001b[1;32m--> 692\u001b[0m     \u001b[39mraise\u001b[39;00m e\u001b[39m.\u001b[39mag_error_metadata\u001b[39m.\u001b[39mto_exception(e)\n\u001b[0;32m    693\u001b[0m   \u001b[39melse\u001b[39;00m:\n\u001b[0;32m    694\u001b[0m     \u001b[39mraise\u001b[39;00m\n",
      "\u001b[1;31mOperatorNotAllowedInGraphError\u001b[0m: Exception encountered when calling layer \"arc_margin_product\" (type ArcMarginProduct).\n\nin user code:\n\n    File \"c:\\Users\\Jack\\Desktop\\GUIE\\guie_challenge\\guie_challenge\\custom_layers\\arcface_loss.py\", line 51, in call  *\n        X, y = inputs #\n\n    OperatorNotAllowedInGraphError: Iterating over a symbolic `tf.Tensor` is not allowed in Graph execution. Use Eager execution or decorate this function with @tf.function.\n\n\nCall arguments received by layer \"arc_margin_product\" (type ArcMarginProduct):\n  • inputs=tf.Tensor(shape=(None, 256), dtype=float32)"
     ]
    }
   ],
   "source": [
    "debug_model = get_debug_model(s=32, m = .15)\n",
    "debug_model.summary()"
   ]
  },
  {
   "cell_type": "code",
   "execution_count": null,
   "metadata": {},
   "outputs": [],
   "source": [
    "debug_model.compile(\n",
    "        optimizer = tf.keras.optimizers.Adam(learning_rate = config.LR),\n",
    "        loss = {'head_output':tf.keras.losses.SparseCategoricalCrossentropy(from_logits=False)},\n",
    "        metrics = {'head_output':[tf.keras.metrics.SparseCategoricalAccuracy(),tf.keras.metrics.SparseTopKCategoricalAccuracy(k=3)]},\n",
    "        )\n",
    "\n",
    "steps_per_epoch = len(train_dataset) // config.BATCH_SIZE  // 20     # \"//20\" means that the lr is update every 0.1 epoch.\n",
    "validation_steps = len(test_dataset) // config.BATCH_SIZE\n",
    "if len(test_dataset) % config.BATCH_SIZE != 0:\n",
    "    validation_steps += 1\n",
    "print(steps_per_epoch, validation_steps)"
   ]
  },
  {
   "cell_type": "markdown",
   "metadata": {},
   "source": [
    "### Callbacks"
   ]
  },
  {
   "cell_type": "code",
   "execution_count": null,
   "metadata": {},
   "outputs": [],
   "source": [
    "# tensorboard\n",
    "\n",
    "log_dir = \"logs/fit/\" + datetime.now().strftime(\"%Y%m%d-%H%M%S\")\n",
    "tensorboard_callback = tf.keras.callbacks.TensorBoard(log_dir=log_dir, histogram_freq=1,\n",
    "                        #  write_graph=True,\n",
    "                        #  write_images=True,\n",
    "                        update_freq='epoch',\n",
    "                        #  profile_batch=2,\n",
    "                        #  embeddings_freq=1\n",
    "                        )\n",
    "\n",
    "#emb_callback = call_backs.EmbeddingCallback(x_test, y_test, save_dir = log_dir+'/emb/', embedding_dim = config.OUTPUT_EMB)"
   ]
  },
  {
   "cell_type": "markdown",
   "metadata": {},
   "source": [
    "### Training"
   ]
  },
  {
   "cell_type": "code",
   "execution_count": null,
   "metadata": {},
   "outputs": [],
   "source": [
    "history = debug_model.fit(\n",
    "        train_dataset,\n",
    "        epochs=35,\n",
    "        validation_steps = validation_steps,\n",
    "        validation_data = test_dataset,\n",
    "        verbose=1,\n",
    "        #callbacks=[tensorboard_callback]\n",
    "    )"
   ]
  },
  {
   "cell_type": "code",
   "execution_count": null,
   "metadata": {},
   "outputs": [],
   "source": [
    "print(\"Test examples:\",len(x_test))\n",
    "pred_class, pred_emb = debug_model.predict(x_test)\n",
    "\n",
    "# argmax returns largest element's index\n",
    "pred_class = tf.argmax(pred_class, axis=1)\n",
    "true_class = y_test\n"
   ]
  },
  {
   "cell_type": "code",
   "execution_count": null,
   "metadata": {},
   "outputs": [],
   "source": [
    "confusion_matrix = {}\n",
    "embedding_data = []\n",
    "\n",
    "for i in range(config.NUM_CLASSES):\n",
    "    confusion_matrix[i] = {}\n",
    "    for ii in range(config.NUM_CLASSES):\n",
    "        confusion_matrix[i][ii] = 0\n",
    "\n",
    "from annoy import AnnoyIndex\n",
    "tree = AnnoyIndex(config.OUTPUT_EMB, 'euclidean')\n",
    "\n",
    "for i,pred_tensor, y_array, embedding in zip(range(len(true_class)),pred_class,true_class,pred_emb):\n",
    "    # come out in annoying type\n",
    "    pred = int(pred_tensor)\n",
    "    y = int(y_array)\n",
    "\n",
    "    tree.add_item(i, embedding)\n",
    "\n",
    "    assert y < config.NUM_CLASSES and pred < config.NUM_CLASSES\n",
    "    embedding_data.append({'annoy_idx':i,'true_class':y,'pred_class':pred,'embedding':embedding})\n",
    "    confusion_matrix[y][pred]+=1"
   ]
  },
  {
   "cell_type": "code",
   "execution_count": null,
   "metadata": {},
   "outputs": [],
   "source": [
    "# import matplotlib.pyplot as plt\n",
    "# cm_df = pd.DataFrame(confusion_matrix)\n",
    "\n",
    "# fig, ax = plt.subplots(figsize=(4,6))\n",
    "# ax.matshow(cm_df, cmap=plt.cm.Reds, alpha=0.7)\n",
    "# for i in range(cm_df.shape[0]):\n",
    "#     for j in range(cm_df.shape[1]):\n",
    "#         ax.text(x=j, y=i,s=cm_df[i][j], va='center', ha='center', size='large')\n",
    " \n",
    "# plt.xlabel('Predictions', fontsize=18)\n",
    "# plt.ylabel('Actuals', fontsize=18)\n",
    "# plt.title('Confusion Matrix', fontsize=18)\n",
    "# plt.show()"
   ]
  },
  {
   "cell_type": "code",
   "execution_count": null,
   "metadata": {},
   "outputs": [],
   "source": [
    "emb_df = pd.DataFrame(embedding_data)\n",
    "emb_df.head()"
   ]
  },
  {
   "cell_type": "code",
   "execution_count": null,
   "metadata": {},
   "outputs": [],
   "source": [
    "def dist_to_origin(embedding):\n",
    "    return np.sqrt(np.dot(embedding,embedding))\n",
    "\n",
    "emb_df['length']=emb_df['embedding'].apply(dist_to_origin)\n",
    "emb_df['normed_embeddings']=emb_df['embedding']/emb_df['length']"
   ]
  },
  {
   "cell_type": "code",
   "execution_count": null,
   "metadata": {},
   "outputs": [],
   "source": [
    "emb_df.head()"
   ]
  },
  {
   "cell_type": "code",
   "execution_count": null,
   "metadata": {},
   "outputs": [],
   "source": [
    "tree.build(20)"
   ]
  },
  {
   "cell_type": "code",
   "execution_count": null,
   "metadata": {},
   "outputs": [],
   "source": [
    "def n_neighbors(annoy_idx, neighbor_count=5):\n",
    "    # the closest embedding is always the same exact embedding, must exclu\n",
    "    neighbor_count+=1\n",
    "    return tree.get_nns_by_item(annoy_idx, neighbor_count)[1:]\n",
    "\n",
    "def neighbor_classes(row, emb_df):\n",
    "    return emb_df.loc[emb_df['annoy_idx'].isin(row.nearest_neighbors),'true_class'].to_list()\n",
    "    \n",
    "def matching_neighbors(row):\n",
    "    return len([True for neighbor_class in row.neighbor_classes if row.true_class == neighbor_class])\n",
    "\n",
    "emb_df['nearest_neighbors'] = emb_df['annoy_idx'].apply(n_neighbors)\n",
    "emb_df['neighbor_classes'] = emb_df.apply(lambda row: neighbor_classes(row,emb_df), axis=1)\n",
    "emb_df['matching_neighbors'] = emb_df.apply(lambda row: matching_neighbors(row), axis=1)"
   ]
  },
  {
   "cell_type": "code",
   "execution_count": null,
   "metadata": {},
   "outputs": [],
   "source": [
    "def competition_score(emb_df, neighbor_count):\n",
    "    # Average of (correct neighbors / looked at neighbors)\n",
    "    # ex: 1/N * (  sum(  1/neighbor_count * per_item_match_count  )  ) = 1/N * ( 1/neighbor_count * total_match_count)\n",
    "    total_matches = emb_df['matching_neighbors'].sum()\n",
    "    score = total_matches / neighbor_count / len(emb_df)\n",
    "    return score"
   ]
  },
  {
   "cell_type": "code",
   "execution_count": null,
   "metadata": {},
   "outputs": [],
   "source": [
    "competition_score(emb_df,5)"
   ]
  },
  {
   "cell_type": "code",
   "execution_count": null,
   "metadata": {},
   "outputs": [],
   "source": [
    "emb_df['correct_prediction'] = emb_df['true_class']==emb_df['pred_class']"
   ]
  },
  {
   "cell_type": "code",
   "execution_count": null,
   "metadata": {},
   "outputs": [],
   "source": [
    "print(emb_df['correct_prediction'].value_counts())"
   ]
  },
  {
   "cell_type": "code",
   "execution_count": null,
   "metadata": {},
   "outputs": [],
   "source": []
  }
 ],
 "metadata": {
  "kernelspec": {
   "display_name": "Python 3.10.8 64-bit",
   "language": "python",
   "name": "python3"
  },
  "language_info": {
   "codemirror_mode": {
    "name": "ipython",
    "version": 3
   },
   "file_extension": ".py",
   "mimetype": "text/x-python",
   "name": "python",
   "nbconvert_exporter": "python",
   "pygments_lexer": "ipython3",
   "version": "3.10.8"
  },
  "orig_nbformat": 4,
  "vscode": {
   "interpreter": {
    "hash": "8f2aafffe541dce4fbde971e590718b403cdb167c5dc463f7f3d3005ad40d44b"
   }
  }
 },
 "nbformat": 4,
 "nbformat_minor": 2
}
