{
 "cells": [
  {
   "cell_type": "code",
   "execution_count": 22,
   "metadata": {},
   "outputs": [],
   "source": [
    "import os\n",
    "import random\n",
    "from datetime import datetime\n",
    "from collections import Counter\n",
    "\n",
    "import numpy as np\n",
    "import pandas as pd\n",
    "import tensorflow as tf\n",
    "import tensorflow_addons as tfa\n",
    "\n",
    "from utils import misc, preprocessing, evaluation_metrics\n",
    "from call_backs import TestEmbeddingCallback\n",
    "from custom_layers.arcface_loss import ArcMarginProduct\n",
    "\n",
    "# to access cifar100\n",
    "import ssl\n",
    "ssl._create_default_https_context = ssl._create_unverified_context"
   ]
  },
  {
   "cell_type": "markdown",
   "metadata": {},
   "source": [
    "### Config"
   ]
  },
  {
   "cell_type": "code",
   "execution_count": 23,
   "metadata": {},
   "outputs": [],
   "source": [
    "class config:\n",
    "    # GENERAL\n",
    "    RANDOM_SEED = 5\n",
    "    TENSOR_LOG_DIR = 'logs'\n",
    "    SAVE_DIR = 'saved_models'\n",
    "\n",
    "    # DATA\n",
    "    INPUT_SIZE = (32,32,3)\n",
    "    NUM_CLASSES = 100 # holding out 5 classes from cifar100\n",
    "\n",
    "    # MODEL\n",
    "    OUTPUT_EMB = 64\n",
    "    MIDDLE_EMB = 256\n",
    "\n",
    "    # TRAINING\n",
    "    EPOCHS = 60\n",
    "    BATCH_SIZE = 32\n",
    "    LR = .0005\n",
    "\n",
    "misc.seed_everything(config.RANDOM_SEED)"
   ]
  },
  {
   "cell_type": "markdown",
   "metadata": {},
   "source": [
    "### Load dataset"
   ]
  },
  {
   "cell_type": "code",
   "execution_count": 24,
   "metadata": {},
   "outputs": [
    {
     "name": "stdout",
     "output_type": "stream",
     "text": [
      "x_train shape: (50000, 32, 32, 3)\n",
      "y_train shape: (50000, 1)\n"
     ]
    }
   ],
   "source": [
    "# (x_train, y_train), (x_test, y_test) = tf.keras.datasets.fashion_mnist.load_data()\n",
    "(x_train, y_train), (x_test, y_test) = tf.keras.datasets.cifar100.load_data()\n",
    "\n",
    "x_train = tf.convert_to_tensor(x_train)\n",
    "y_train = tf.convert_to_tensor(y_train)\n",
    "\n",
    "# images are of correct input_size\n",
    "print('x_train shape:', x_train.get_shape())\n",
    "assert x_train.get_shape()[-3:] == config.INPUT_SIZE\n",
    "\n",
    "print('y_train shape:', y_train.get_shape())\n",
    "# y_train has only 1 label per item in tensor\n",
    "assert y_train.get_shape()[-1:] == 1\n",
    "\n",
    "# num images == num labels\n",
    "assert y_train.get_shape()[0] == x_train.get_shape()[0]\n",
    "\n"
   ]
  },
  {
   "cell_type": "code",
   "execution_count": 25,
   "metadata": {},
   "outputs": [
    {
     "name": "stdout",
     "output_type": "stream",
     "text": [
      "Counter({19: 500, 29: 500, 0: 500, 11: 500, 1: 500, 86: 500, 90: 500, 28: 500, 23: 500, 31: 500, 39: 500, 96: 500, 82: 500, 17: 500, 71: 500, 8: 500, 97: 500, 80: 500, 74: 500, 59: 500, 70: 500, 87: 500, 84: 500, 64: 500, 52: 500, 42: 500, 47: 500, 65: 500, 21: 500, 22: 500, 81: 500, 24: 500, 78: 500, 45: 500, 49: 500, 56: 500, 76: 500, 89: 500, 73: 500, 14: 500, 9: 500, 6: 500, 20: 500, 98: 500, 36: 500, 55: 500, 72: 500, 43: 500, 51: 500, 35: 500, 83: 500, 33: 500, 27: 500, 53: 500, 92: 500, 50: 500, 15: 500, 18: 500, 46: 500, 75: 500, 38: 500, 66: 500, 77: 500, 69: 500, 95: 500, 99: 500, 93: 500, 4: 500, 61: 500, 94: 500, 68: 500, 34: 500, 32: 500, 88: 500, 67: 500, 30: 500, 62: 500, 63: 500, 40: 500, 26: 500, 48: 500, 79: 500, 85: 500, 54: 500, 44: 500, 7: 500, 12: 500, 2: 500, 41: 500, 37: 500, 13: 500, 25: 500, 10: 500, 57: 500, 5: 500, 60: 500, 91: 500, 3: 500, 58: 500, 16: 500})\n"
     ]
    }
   ],
   "source": [
    "class_count = Counter(np.array(tf.reshape(y_train, [y_train.get_shape()[0],])))\n",
    "print(class_count)"
   ]
  },
  {
   "cell_type": "code",
   "execution_count": 26,
   "metadata": {},
   "outputs": [],
   "source": [
    "train_dataset = tf.data.Dataset.from_tensor_slices((x_train, y_train)).map(preprocessing.normalize).map(preprocessing.arcface_format).batch(config.BATCH_SIZE)\n",
    "test_dataset = tf.data.Dataset.from_tensor_slices((x_test, y_test)).map(preprocessing.normalize).map(preprocessing.arcface_format).batch(config.BATCH_SIZE)"
   ]
  },
  {
   "cell_type": "markdown",
   "metadata": {},
   "source": [
    "### Define model "
   ]
  },
  {
   "cell_type": "code",
   "execution_count": 27,
   "metadata": {},
   "outputs": [],
   "source": [
    "# from custom_layers.arcface_loss import ArcMarginProduct\n",
    "from custom_layers.subcenter_arcface_loss import SubcenterArcMarginProduct as ArcMarginProduct\n",
    "# allows 2 inputs and 2 outputs\n",
    "\n",
    "def get_debug_model(s = 10, m = .25, k = 3):\n",
    " #------------------\n",
    "    # Definition of placeholders\n",
    "    inp = tf.keras.layers.Input(shape = config.INPUT_SIZE, name = 'inp1')\n",
    "    label = tf.keras.layers.Input(shape = (), name = 'inp2')\n",
    "\n",
    "    # Definition of layers\n",
    "    \n",
    "    #TODO: reasearch filters, get better understanding\n",
    "    layer_conv1 = tf.keras.layers.Conv2D(filters = 24, kernel_size = (2,2), input_shape = config.INPUT_SIZE, activation ='relu')\n",
    "    layer_pool1 = tf.keras.layers.MaxPool2D((2,2))\n",
    "    layer_conv2 = tf.keras.layers.Conv2D(filters = 12, kernel_size = (2,2), activation ='relu')\n",
    "    layer_pool2 = tf.keras.layers.MaxPool2D((2,2))\n",
    "    layer_flatten = tf.keras.layers.Flatten()\n",
    "    layer_dense1 = tf.keras.layers.Dense(config.MIDDLE_EMB)\n",
    "    layer_dense2 = tf.keras.layers.Dense(config.NUM_CLASSES)\n",
    "    layer_arcface = ArcMarginProduct(n_classes=config.NUM_CLASSES, s=s, m=m, k=k)\n",
    "    layer_softmax = tf.keras.layers.Softmax(dtype='float16', name='head_output')\n",
    "\n",
    "    if config.MIDDLE_EMB != config.OUTPUT_EMB:\n",
    "        layer_adaptive_pooling = tfa.layers.AdaptiveAveragePooling1D(config.OUTPUT_EMB)\n",
    "    else:\n",
    "        layer_adaptive_pooling = tf.keras.layers.Lambda(lambda x: x)  # layer with no operation\n",
    "\n",
    "    #------------------\n",
    "    # Definition of entire model\n",
    "    backbone_output = layer_conv1(inp)\n",
    "    backbone_output = layer_pool1(backbone_output)\n",
    "    backbone_output = layer_conv2(backbone_output)\n",
    "    backbone_output = layer_pool2(backbone_output)\n",
    "    embed = layer_flatten(backbone_output)\n",
    "    embed = layer_dense1(embed)\n",
    "    \n",
    "    # Training head\n",
    "    # head_output = layer_dense2(embed)\n",
    "    head_output = layer_arcface((embed,label))\n",
    "    head_output = layer_softmax(head_output)\n",
    "    \n",
    "    # Inference\n",
    "    emb_output = layer_adaptive_pooling(embed)\n",
    "\n",
    "    model = tf.keras.models.Model(inputs = [(inp, label)], outputs = [head_output, emb_output]) # whole architecture\n",
    "\n",
    "    return model"
   ]
  },
  {
   "cell_type": "code",
   "execution_count": 28,
   "metadata": {},
   "outputs": [
    {
     "name": "stdout",
     "output_type": "stream",
     "text": [
      "Model: \"model_1\"\n",
      "__________________________________________________________________________________________________\n",
      " Layer (type)                   Output Shape         Param #     Connected to                     \n",
      "==================================================================================================\n",
      " inp1 (InputLayer)              [(None, 32, 32, 3)]  0           []                               \n",
      "                                                                                                  \n",
      " conv2d_2 (Conv2D)              (None, 31, 31, 24)   312         ['inp1[0][0]']                   \n",
      "                                                                                                  \n",
      " max_pooling2d_2 (MaxPooling2D)  (None, 15, 15, 24)  0           ['conv2d_2[0][0]']               \n",
      "                                                                                                  \n",
      " conv2d_3 (Conv2D)              (None, 14, 14, 12)   1164        ['max_pooling2d_2[0][0]']        \n",
      "                                                                                                  \n",
      " max_pooling2d_3 (MaxPooling2D)  (None, 7, 7, 12)    0           ['conv2d_3[0][0]']               \n",
      "                                                                                                  \n",
      " flatten_1 (Flatten)            (None, 588)          0           ['max_pooling2d_3[0][0]']        \n",
      "                                                                                                  \n",
      " dense_2 (Dense)                (None, 256)          150784      ['flatten_1[0][0]']              \n",
      "                                                                                                  \n",
      " inp2 (InputLayer)              [(None,)]            0           []                               \n",
      "                                                                                                  \n",
      " subcenter_arc_margin_product_1  (None, 100)         51200       ['dense_2[0][0]',                \n",
      "  (SubcenterArcMarginProduct)                                     'inp2[0][0]']                   \n",
      "                                                                                                  \n",
      " head_output (Softmax)          (None, 100)          0           ['subcenter_arc_margin_product_1[\n",
      "                                                                 0][0]']                          \n",
      "                                                                                                  \n",
      " adaptive_average_pooling1d_1 (  (None, 64)          0           ['dense_2[0][0]']                \n",
      " AdaptiveAveragePooling1D)                                                                        \n",
      "                                                                                                  \n",
      "==================================================================================================\n",
      "Total params: 203,460\n",
      "Trainable params: 203,460\n",
      "Non-trainable params: 0\n",
      "__________________________________________________________________________________________________\n"
     ]
    }
   ],
   "source": [
    "debug_model = get_debug_model(s=32, m=.15, k=2)\n",
    "debug_model.summary()"
   ]
  },
  {
   "cell_type": "code",
   "execution_count": 29,
   "metadata": {},
   "outputs": [
    {
     "name": "stdout",
     "output_type": "stream",
     "text": [
      "2 10\n"
     ]
    }
   ],
   "source": [
    "debug_model.compile(\n",
    "        optimizer = tf.keras.optimizers.Adam(learning_rate = config.LR),\n",
    "        loss = {'head_output':tf.keras.losses.SparseCategoricalCrossentropy(from_logits=False)},\n",
    "        metrics = {'head_output':[tf.keras.metrics.SparseCategoricalAccuracy(),tf.keras.metrics.SparseTopKCategoricalAccuracy(k=3)]},\n",
    "        )\n",
    "\n",
    "steps_per_epoch = len(train_dataset) // config.BATCH_SIZE  // 20     # \"//20\" means that the lr is update every 0.1 epoch.\n",
    "validation_steps = len(test_dataset) // config.BATCH_SIZE\n",
    "if len(test_dataset) % config.BATCH_SIZE != 0:\n",
    "    validation_steps += 1\n",
    "print(steps_per_epoch, validation_steps)"
   ]
  },
  {
   "cell_type": "markdown",
   "metadata": {},
   "source": [
    "### Callbacks"
   ]
  },
  {
   "cell_type": "code",
   "execution_count": 30,
   "metadata": {},
   "outputs": [],
   "source": [
    "# tensorboard\n",
    "\n",
    "log_dir = \"logs/fit/\" + datetime.now().strftime(\"%Y%m%d-%H%M%S\")\n",
    "tensorboard_callback = tf.keras.callbacks.TensorBoard(log_dir=log_dir, histogram_freq=1,\n",
    "                        #  write_graph=True,\n",
    "                        #  write_images=True,\n",
    "                        update_freq='epoch',\n",
    "                        #  profile_batch=2,\n",
    "                        #  embeddings_freq=1\n",
    "                        )\n",
    "\n",
    "#emb_callback = call_backs.EmbeddingCallback(x_test, y_test, save_dir = log_dir+'/emb/', embedding_dim = config.OUTPUT_EMB)\n",
    "emb_callback = TestEmbeddingCallback(x_test, y_test, 'logs/emb/')"
   ]
  },
  {
   "cell_type": "markdown",
   "metadata": {},
   "source": [
    "### Training"
   ]
  },
  {
   "cell_type": "code",
   "execution_count": 31,
   "metadata": {},
   "outputs": [
    {
     "name": "stdout",
     "output_type": "stream",
     "text": [
      "Epoch 1/60\n",
      "313/313 [==============================] - 5s 16ms/step\n",
      "Competition score was 0.11392\n",
      "1563/1563 [==============================] - 79s 49ms/step - loss: 8.3479 - head_output_loss: 8.3479 - head_output_sparse_categorical_accuracy: 0.0000e+00 - head_output_sparse_top_k_categorical_accuracy: 8.0000e-05 - val_loss: 7.9910 - val_head_output_loss: 7.9910 - val_head_output_sparse_categorical_accuracy: 0.0000e+00 - val_head_output_sparse_top_k_categorical_accuracy: 0.0000e+00\n",
      "Epoch 2/60\n",
      "313/313 [==============================] - 3s 9ms/step loss: 7.9495 - head_output_loss: 7.9495 - head_out\n",
      "Competition score was 0.115\n",
      "1563/1563 [==============================] - 80s 51ms/step - loss: 7.9491 - head_output_loss: 7.9491 - head_output_sparse_categorical_accuracy: 8.0000e-05 - head_output_sparse_top_k_categorical_accuracy: 6.2000e-04 - val_loss: 7.8816 - val_head_output_loss: 7.8816 - val_head_output_sparse_categorical_accuracy: 0.0000e+00 - val_head_output_sparse_top_k_categorical_accuracy: 0.0031\n",
      "Epoch 3/60\n",
      "313/313 [==============================] - 3s 8ms/step loss: 7.8427 - head_output_loss: 7.8427 - head_output_sparse_c\n",
      "Competition score was 0.1166\n",
      "1563/1563 [==============================] - 61s 39ms/step - loss: 7.8422 - head_output_loss: 7.8422 - head_output_sparse_categorical_accuracy: 2.0000e-04 - head_output_sparse_top_k_categorical_accuracy: 9.2000e-04 - val_loss: 7.8211 - val_head_output_loss: 7.8211 - val_head_output_sparse_categorical_accuracy: 0.0000e+00 - val_head_output_sparse_top_k_categorical_accuracy: 0.0031\n",
      "Epoch 4/60\n",
      "313/313 [==============================] - 3s 8ms/step loss: 7.7785 - head_output_loss: 7.7785 - head_output_sp\n",
      "Competition score was 0.11682\n",
      "1563/1563 [==============================] - 61s 39ms/step - loss: 7.7780 - head_output_loss: 7.7780 - head_output_sparse_categorical_accuracy: 2.6000e-04 - head_output_sparse_top_k_categorical_accuracy: 0.0012 - val_loss: 7.7902 - val_head_output_loss: 7.7902 - val_head_output_sparse_categorical_accuracy: 0.0000e+00 - val_head_output_sparse_top_k_categorical_accuracy: 0.0000e+00\n",
      "Epoch 5/60\n",
      "313/313 [==============================] - 3s 8ms/step loss: 7.7352 - head_output_loss: 7.7352 - head_output_spar\n",
      "Competition score was 0.11528\n",
      "1563/1563 [==============================] - 63s 40ms/step - loss: 7.7349 - head_output_loss: 7.7349 - head_output_sparse_categorical_accuracy: 4.0000e-04 - head_output_sparse_top_k_categorical_accuracy: 0.0013 - val_loss: 7.7629 - val_head_output_loss: 7.7629 - val_head_output_sparse_categorical_accuracy: 0.0000e+00 - val_head_output_sparse_top_k_categorical_accuracy: 0.0031\n",
      "Epoch 6/60\n",
      "313/313 [==============================] - 3s 8ms/step loss: 7.7041 - head_output_loss: 7.7041 - head_outpu\n",
      "Competition score was 0.11606\n",
      "1563/1563 [==============================] - 67s 43ms/step - loss: 7.7037 - head_output_loss: 7.7037 - head_output_sparse_categorical_accuracy: 4.4000e-04 - head_output_sparse_top_k_categorical_accuracy: 0.0015 - val_loss: 7.7383 - val_head_output_loss: 7.7383 - val_head_output_sparse_categorical_accuracy: 0.0000e+00 - val_head_output_sparse_top_k_categorical_accuracy: 0.0031\n",
      "Epoch 7/60\n",
      "313/313 [==============================] - 3s 9ms/step loss: 7.6782 - head_output_loss: 7.6782 - he\n",
      "Competition score was 0.1148\n",
      "1563/1563 [==============================] - 60s 38ms/step - loss: 7.6782 - head_output_loss: 7.6782 - head_output_sparse_categorical_accuracy: 5.0000e-04 - head_output_sparse_top_k_categorical_accuracy: 0.0018 - val_loss: 7.7242 - val_head_output_loss: 7.7242 - val_head_output_sparse_categorical_accuracy: 0.0000e+00 - val_head_output_sparse_top_k_categorical_accuracy: 0.0094\n",
      "Epoch 8/60\n",
      "313/313 [==============================] - 3s 8ms/step loss: 7.6572 - head_output_loss: 7.6572 - head_output_sp\n",
      "Competition score was 0.11562\n",
      "1563/1563 [==============================] - 56s 36ms/step - loss: 7.6569 - head_output_loss: 7.6569 - head_output_sparse_categorical_accuracy: 5.8000e-04 - head_output_sparse_top_k_categorical_accuracy: 0.0020 - val_loss: 7.7145 - val_head_output_loss: 7.7145 - val_head_output_sparse_categorical_accuracy: 0.0000e+00 - val_head_output_sparse_top_k_categorical_accuracy: 0.0094\n",
      "Epoch 9/60\n",
      "313/313 [==============================] - 3s 10ms/steploss: 7.6374 - head_output_los\n",
      "Competition score was 0.11452\n",
      "1563/1563 [==============================] - 69s 44ms/step - loss: 7.6374 - head_output_loss: 7.6374 - head_output_sparse_categorical_accuracy: 7.0000e-04 - head_output_sparse_top_k_categorical_accuracy: 0.0022 - val_loss: 7.7004 - val_head_output_loss: 7.7004 - val_head_output_sparse_categorical_accuracy: 0.0000e+00 - val_head_output_sparse_top_k_categorical_accuracy: 0.0094\n",
      "Epoch 10/60\n",
      "313/313 [==============================] - 3s 8ms/step loss: 7.6195 - head_output_loss: 7.6195 - head_outpu\n",
      "Competition score was 0.1153\n",
      "1563/1563 [==============================] - 64s 41ms/step - loss: 7.6191 - head_output_loss: 7.6191 - head_output_sparse_categorical_accuracy: 7.2000e-04 - head_output_sparse_top_k_categorical_accuracy: 0.0028 - val_loss: 7.6809 - val_head_output_loss: 7.6809 - val_head_output_sparse_categorical_accuracy: 0.0000e+00 - val_head_output_sparse_top_k_categorical_accuracy: 0.0125\n",
      "Epoch 11/60\n",
      "313/313 [==============================] - 3s 10ms/steploss: 7.6018 - head_output_loss: 7\n",
      "Competition score was 0.11576\n",
      "1563/1563 [==============================] - 70s 45ms/step - loss: 7.6014 - head_output_loss: 7.6014 - head_output_sparse_categorical_accuracy: 7.4000e-04 - head_output_sparse_top_k_categorical_accuracy: 0.0029 - val_loss: 7.6621 - val_head_output_loss: 7.6621 - val_head_output_sparse_categorical_accuracy: 0.0000e+00 - val_head_output_sparse_top_k_categorical_accuracy: 0.0125\n",
      "Epoch 12/60\n",
      "313/313 [==============================] - 5s 15ms/step\n",
      "Competition score was 0.1148\n",
      "1563/1563 [==============================] - 87s 56ms/step - loss: 7.5842 - head_output_loss: 7.5842 - head_output_sparse_categorical_accuracy: 8.6000e-04 - head_output_sparse_top_k_categorical_accuracy: 0.0032 - val_loss: 7.6484 - val_head_output_loss: 7.6484 - val_head_output_sparse_categorical_accuracy: 0.0031 - val_head_output_sparse_top_k_categorical_accuracy: 0.0094\n",
      "Epoch 13/60\n",
      "313/313 [==============================] - 2s 8ms/step loss: 7.5678 - head_output_loss: 7.5678 - head_output_\n",
      "Competition score was 0.1144\n",
      "1563/1563 [==============================] - 54s 35ms/step - loss: 7.5675 - head_output_loss: 7.5675 - head_output_sparse_categorical_accuracy: 0.0010 - head_output_sparse_top_k_categorical_accuracy: 0.0034 - val_loss: 7.6359 - val_head_output_loss: 7.6359 - val_head_output_sparse_categorical_accuracy: 0.0031 - val_head_output_sparse_top_k_categorical_accuracy: 0.0094\n",
      "Epoch 14/60\n",
      "313/313 [==============================] - 4s 13ms/step\n",
      "Competition score was 0.11534\n",
      "1563/1563 [==============================] - 82s 52ms/step - loss: 7.5506 - head_output_loss: 7.5506 - head_output_sparse_categorical_accuracy: 0.0010 - head_output_sparse_top_k_categorical_accuracy: 0.0036 - val_loss: 7.6277 - val_head_output_loss: 7.6277 - val_head_output_sparse_categorical_accuracy: 0.0031 - val_head_output_sparse_top_k_categorical_accuracy: 0.0094\n",
      "Epoch 15/60\n",
      "313/313 [==============================] - 2s 8ms/step loss: 7.5355 - head_output_loss: 7.5355 - head_output_\n",
      "Competition score was 0.11514\n",
      "1563/1563 [==============================] - 57s 36ms/step - loss: 7.5352 - head_output_loss: 7.5352 - head_output_sparse_categorical_accuracy: 0.0010 - head_output_sparse_top_k_categorical_accuracy: 0.0036 - val_loss: 7.6137 - val_head_output_loss: 7.6137 - val_head_output_sparse_categorical_accuracy: 0.0031 - val_head_output_sparse_top_k_categorical_accuracy: 0.0094\n",
      "Epoch 16/60\n",
      "313/313 [==============================] - 4s 12ms/steploss: 7.5212\n",
      "Competition score was 0.11346\n",
      "1563/1563 [==============================] - 68s 44ms/step - loss: 7.5209 - head_output_loss: 7.5209 - head_output_sparse_categorical_accuracy: 0.0012 - head_output_sparse_top_k_categorical_accuracy: 0.0039 - val_loss: 7.5977 - val_head_output_loss: 7.5977 - val_head_output_sparse_categorical_accuracy: 0.0031 - val_head_output_sparse_top_k_categorical_accuracy: 0.0094\n",
      "Epoch 17/60\n",
      "313/313 [==============================] - 3s 9ms/step loss: 7.5085 - head_output_loss: 7.5085 - \n",
      "Competition score was 0.114\n",
      "1563/1563 [==============================] - 60s 38ms/step - loss: 7.5082 - head_output_loss: 7.5082 - head_output_sparse_categorical_accuracy: 0.0012 - head_output_sparse_top_k_categorical_accuracy: 0.0039 - val_loss: 7.5863 - val_head_output_loss: 7.5863 - val_head_output_sparse_categorical_accuracy: 0.0031 - val_head_output_sparse_top_k_categorical_accuracy: 0.0094\n",
      "Epoch 18/60\n",
      "313/313 [==============================] - 4s 12ms/steploss: 7.4965\n",
      "Competition score was 0.1133\n",
      "1563/1563 [==============================] - 65s 41ms/step - loss: 7.4962 - head_output_loss: 7.4962 - head_output_sparse_categorical_accuracy: 0.0011 - head_output_sparse_top_k_categorical_accuracy: 0.0040 - val_loss: 7.5770 - val_head_output_loss: 7.5770 - val_head_output_sparse_categorical_accuracy: 0.0031 - val_head_output_sparse_top_k_categorical_accuracy: 0.0094\n",
      "Epoch 19/60\n",
      "313/313 [==============================] - 2s 8ms/step loss: 7.4857 - head_output_loss: 7.4857 - head_output_sp\n",
      "Competition score was 0.11248\n",
      "1563/1563 [==============================] - 56s 36ms/step - loss: 7.4857 - head_output_loss: 7.4857 - head_output_sparse_categorical_accuracy: 0.0012 - head_output_sparse_top_k_categorical_accuracy: 0.0040 - val_loss: 7.5684 - val_head_output_loss: 7.5684 - val_head_output_sparse_categorical_accuracy: 0.0031 - val_head_output_sparse_top_k_categorical_accuracy: 0.0094\n",
      "Epoch 20/60\n",
      "313/313 [==============================] - 4s 13ms/step\n",
      "Competition score was 0.11062\n",
      "1563/1563 [==============================] - 71s 45ms/step - loss: 7.4764 - head_output_loss: 7.4764 - head_output_sparse_categorical_accuracy: 0.0012 - head_output_sparse_top_k_categorical_accuracy: 0.0041 - val_loss: 7.5566 - val_head_output_loss: 7.5566 - val_head_output_sparse_categorical_accuracy: 0.0031 - val_head_output_sparse_top_k_categorical_accuracy: 0.0094\n",
      "Epoch 21/60\n",
      "313/313 [==============================] - 3s 8ms/step loss: 7.4680 - head_output_loss: 7.4680 - head_out\n",
      "Competition score was 0.11108\n",
      "1563/1563 [==============================] - 55s 35ms/step - loss: 7.4677 - head_output_loss: 7.4677 - head_output_sparse_categorical_accuracy: 0.0011 - head_output_sparse_top_k_categorical_accuracy: 0.0041 - val_loss: 7.5520 - val_head_output_loss: 7.5520 - val_head_output_sparse_categorical_accuracy: 0.0031 - val_head_output_sparse_top_k_categorical_accuracy: 0.0094\n",
      "Epoch 22/60\n",
      "313/313 [==============================] - 4s 12ms/steploss: 7.4602 -\n",
      "Competition score was 0.10986\n",
      "1563/1563 [==============================] - 72s 46ms/step - loss: 7.4599 - head_output_loss: 7.4599 - head_output_sparse_categorical_accuracy: 0.0012 - head_output_sparse_top_k_categorical_accuracy: 0.0042 - val_loss: 7.5465 - val_head_output_loss: 7.5465 - val_head_output_sparse_categorical_accuracy: 0.0031 - val_head_output_sparse_top_k_categorical_accuracy: 0.0094\n",
      "Epoch 23/60\n",
      "313/313 [==============================] - 3s 9ms/step loss: 7.4524 - head_output_loss: 7.4524 - \n",
      "Competition score was 0.10934\n",
      "1563/1563 [==============================] - 55s 35ms/step - loss: 7.4524 - head_output_loss: 7.4524 - head_output_sparse_categorical_accuracy: 0.0012 - head_output_sparse_top_k_categorical_accuracy: 0.0042 - val_loss: 7.5387 - val_head_output_loss: 7.5387 - val_head_output_sparse_categorical_accuracy: 0.0031 - val_head_output_sparse_top_k_categorical_accuracy: 0.0094\n",
      "Epoch 24/60\n",
      "313/313 [==============================] - 4s 13ms/steploss: 7.\n",
      "Competition score was 0.10842\n",
      "1563/1563 [==============================] - 69s 44ms/step - loss: 7.4461 - head_output_loss: 7.4461 - head_output_sparse_categorical_accuracy: 0.0012 - head_output_sparse_top_k_categorical_accuracy: 0.0043 - val_loss: 7.5328 - val_head_output_loss: 7.5328 - val_head_output_sparse_categorical_accuracy: 0.0031 - val_head_output_sparse_top_k_categorical_accuracy: 0.0094\n",
      "Epoch 25/60\n",
      "313/313 [==============================] - 2s 8ms/step loss: 7.4402 - head_output_loss: 7.4402 - head_output_\n",
      "Competition score was 0.10832\n",
      "1563/1563 [==============================] - 63s 40ms/step - loss: 7.4401 - head_output_loss: 7.4401 - head_output_sparse_categorical_accuracy: 0.0013 - head_output_sparse_top_k_categorical_accuracy: 0.0042 - val_loss: 7.5297 - val_head_output_loss: 7.5297 - val_head_output_sparse_categorical_accuracy: 0.0031 - val_head_output_sparse_top_k_categorical_accuracy: 0.0094\n",
      "Epoch 26/60\n",
      "313/313 [==============================] - 4s 13ms/step\n",
      "Competition score was 0.1078\n",
      "1563/1563 [==============================] - 66s 42ms/step - loss: 7.4340 - head_output_loss: 7.4340 - head_output_sparse_categorical_accuracy: 0.0013 - head_output_sparse_top_k_categorical_accuracy: 0.0042 - val_loss: 7.5266 - val_head_output_loss: 7.5266 - val_head_output_sparse_categorical_accuracy: 0.0031 - val_head_output_sparse_top_k_categorical_accuracy: 0.0156\n",
      "Epoch 27/60\n",
      "313/313 [==============================] - 3s 8ms/step loss: 7.4284 - head_output_loss: 7.4284 - head_out\n",
      "Competition score was 0.10776\n",
      "1563/1563 [==============================] - 67s 43ms/step - loss: 7.4283 - head_output_loss: 7.4283 - head_output_sparse_categorical_accuracy: 0.0013 - head_output_sparse_top_k_categorical_accuracy: 0.0042 - val_loss: 7.5234 - val_head_output_loss: 7.5234 - val_head_output_sparse_categorical_accuracy: 0.0031 - val_head_output_sparse_top_k_categorical_accuracy: 0.0156\n",
      "Epoch 28/60\n",
      "313/313 [==============================] - 4s 11ms/steploss: 7.4234 - hea\n",
      "Competition score was 0.10792\n",
      "1563/1563 [==============================] - 64s 41ms/step - loss: 7.4231 - head_output_loss: 7.4231 - head_output_sparse_categorical_accuracy: 0.0012 - head_output_sparse_top_k_categorical_accuracy: 0.0042 - val_loss: 7.5195 - val_head_output_loss: 7.5195 - val_head_output_sparse_categorical_accuracy: 0.0031 - val_head_output_sparse_top_k_categorical_accuracy: 0.0156\n",
      "Epoch 29/60\n",
      "313/313 [==============================] - 3s 9ms/step loss: 7.4186 - head_output_loss: 7.4186 - \n",
      "Competition score was 0.1086\n",
      "1563/1563 [==============================] - 66s 42ms/step - loss: 7.4183 - head_output_loss: 7.4183 - head_output_sparse_categorical_accuracy: 0.0014 - head_output_sparse_top_k_categorical_accuracy: 0.0043 - val_loss: 7.5176 - val_head_output_loss: 7.5176 - val_head_output_sparse_categorical_accuracy: 0.0031 - val_head_output_sparse_top_k_categorical_accuracy: 0.0125\n",
      "Epoch 30/60\n",
      "313/313 [==============================] - 3s 11ms/steploss: 7.4144 - head_outp\n",
      "Competition score was 0.10852\n",
      "1563/1563 [==============================] - 64s 41ms/step - loss: 7.4140 - head_output_loss: 7.4140 - head_output_sparse_categorical_accuracy: 0.0014 - head_output_sparse_top_k_categorical_accuracy: 0.0043 - val_loss: 7.5141 - val_head_output_loss: 7.5141 - val_head_output_sparse_categorical_accuracy: 0.0031 - val_head_output_sparse_top_k_categorical_accuracy: 0.0125\n",
      "Epoch 31/60\n",
      "313/313 [==============================] - 3s 9ms/step loss: 7.4099 - head_output_loss: 7.4099 - he\n",
      "Competition score was 0.10838\n",
      "1563/1563 [==============================] - 61s 39ms/step - loss: 7.4096 - head_output_loss: 7.4096 - head_output_sparse_categorical_accuracy: 0.0014 - head_output_sparse_top_k_categorical_accuracy: 0.0044 - val_loss: 7.5086 - val_head_output_loss: 7.5086 - val_head_output_sparse_categorical_accuracy: 0.0031 - val_head_output_sparse_top_k_categorical_accuracy: 0.0125\n",
      "Epoch 32/60\n",
      "313/313 [==============================] - 4s 12ms/steploss: 7.40\n",
      "Competition score was 0.10808\n",
      "1563/1563 [==============================] - 67s 43ms/step - loss: 7.4061 - head_output_loss: 7.4061 - head_output_sparse_categorical_accuracy: 0.0014 - head_output_sparse_top_k_categorical_accuracy: 0.0046 - val_loss: 7.5043 - val_head_output_loss: 7.5043 - val_head_output_sparse_categorical_accuracy: 0.0031 - val_head_output_sparse_top_k_categorical_accuracy: 0.0125\n",
      "Epoch 33/60\n",
      "313/313 [==============================] - 3s 9ms/step loss: 7.4027 - head_output_loss: 7.4027 - \n",
      "Competition score was 0.10938\n",
      "1563/1563 [==============================] - 73s 47ms/step - loss: 7.4027 - head_output_loss: 7.4027 - head_output_sparse_categorical_accuracy: 0.0014 - head_output_sparse_top_k_categorical_accuracy: 0.0045 - val_loss: 7.5031 - val_head_output_loss: 7.5031 - val_head_output_sparse_categorical_accuracy: 0.0031 - val_head_output_sparse_top_k_categorical_accuracy: 0.0125\n",
      "Epoch 34/60\n",
      "313/313 [==============================] - 4s 12ms/steploss: 7.3992 -\n",
      "Competition score was 0.1097\n",
      "1563/1563 [==============================] - 65s 42ms/step - loss: 7.3989 - head_output_loss: 7.3989 - head_output_sparse_categorical_accuracy: 0.0014 - head_output_sparse_top_k_categorical_accuracy: 0.0046 - val_loss: 7.5008 - val_head_output_loss: 7.5008 - val_head_output_sparse_categorical_accuracy: 0.0031 - val_head_output_sparse_top_k_categorical_accuracy: 0.0125\n",
      "Epoch 35/60\n",
      "313/313 [==============================] - 3s 8ms/step loss: 7.3962 - head_output_loss: 7.3962 - head_output_\n",
      "Competition score was 0.10978\n",
      "1563/1563 [==============================] - 60s 39ms/step - loss: 7.3958 - head_output_loss: 7.3958 - head_output_sparse_categorical_accuracy: 0.0014 - head_output_sparse_top_k_categorical_accuracy: 0.0045 - val_loss: 7.4977 - val_head_output_loss: 7.4977 - val_head_output_sparse_categorical_accuracy: 0.0031 - val_head_output_sparse_top_k_categorical_accuracy: 0.0125\n",
      "Epoch 36/60\n",
      "313/313 [==============================] - 4s 13ms/steplo\n",
      "Competition score was 0.11028\n",
      "1563/1563 [==============================] - 66s 43ms/step - loss: 7.3928 - head_output_loss: 7.3928 - head_output_sparse_categorical_accuracy: 0.0013 - head_output_sparse_top_k_categorical_accuracy: 0.0045 - val_loss: 7.4996 - val_head_output_loss: 7.4996 - val_head_output_sparse_categorical_accuracy: 0.0031 - val_head_output_sparse_top_k_categorical_accuracy: 0.0125\n",
      "Epoch 37/60\n",
      "313/313 [==============================] - 2s 8ms/step loss: 7.3898 - head_output_loss: 7.3898 - head_output_\n",
      "Competition score was 0.10946\n",
      "1563/1563 [==============================] - 65s 42ms/step - loss: 7.3895 - head_output_loss: 7.3895 - head_output_sparse_categorical_accuracy: 0.0014 - head_output_sparse_top_k_categorical_accuracy: 0.0047 - val_loss: 7.4984 - val_head_output_loss: 7.4984 - val_head_output_sparse_categorical_accuracy: 0.0031 - val_head_output_sparse_top_k_categorical_accuracy: 0.0125\n",
      "Epoch 38/60\n",
      "313/313 [==============================] - 4s 12ms/steploss: 7.3871 -\n",
      "Competition score was 0.10824\n",
      "1563/1563 [==============================] - 68s 43ms/step - loss: 7.3868 - head_output_loss: 7.3868 - head_output_sparse_categorical_accuracy: 0.0013 - head_output_sparse_top_k_categorical_accuracy: 0.0048 - val_loss: 7.4941 - val_head_output_loss: 7.4941 - val_head_output_sparse_categorical_accuracy: 0.0031 - val_head_output_sparse_top_k_categorical_accuracy: 0.0094\n",
      "Epoch 39/60\n",
      "313/313 [==============================] - 2s 8ms/step loss: 7.3846 - head_output_loss: 7.3846 - head_output_sp\n",
      "Competition score was 0.10892\n",
      "1563/1563 [==============================] - 56s 36ms/step - loss: 7.3843 - head_output_loss: 7.3843 - head_output_sparse_categorical_accuracy: 0.0013 - head_output_sparse_top_k_categorical_accuracy: 0.0048 - val_loss: 7.4930 - val_head_output_loss: 7.4930 - val_head_output_sparse_categorical_accuracy: 0.0031 - val_head_output_sparse_top_k_categorical_accuracy: 0.0125\n",
      "Epoch 40/60\n",
      "313/313 [==============================] - 4s 13ms/step\n",
      "Competition score was 0.10876\n",
      "1563/1563 [==============================] - 66s 42ms/step - loss: 7.3814 - head_output_loss: 7.3814 - head_output_sparse_categorical_accuracy: 0.0013 - head_output_sparse_top_k_categorical_accuracy: 0.0049 - val_loss: 7.4949 - val_head_output_loss: 7.4949 - val_head_output_sparse_categorical_accuracy: 0.0031 - val_head_output_sparse_top_k_categorical_accuracy: 0.0125\n",
      "Epoch 41/60\n",
      "313/313 [==============================] - 3s 11ms/steploss: 7.3789 - head_ou\n",
      "Competition score was 0.1097\n",
      "1563/1563 [==============================] - 73s 47ms/step - loss: 7.3789 - head_output_loss: 7.3789 - head_output_sparse_categorical_accuracy: 0.0013 - head_output_sparse_top_k_categorical_accuracy: 0.0049 - val_loss: 7.4941 - val_head_output_loss: 7.4941 - val_head_output_sparse_categorical_accuracy: 0.0031 - val_head_output_sparse_top_k_categorical_accuracy: 0.0125\n",
      "Epoch 42/60\n",
      "313/313 [==============================] - 3s 8ms/step loss: 7.3765 - head_output_loss: 7.3765 - head\n",
      "Competition score was 0.10912\n",
      "1563/1563 [==============================] - 53s 34ms/step - loss: 7.3765 - head_output_loss: 7.3765 - head_output_sparse_categorical_accuracy: 0.0013 - head_output_sparse_top_k_categorical_accuracy: 0.0050 - val_loss: 7.4938 - val_head_output_loss: 7.4938 - val_head_output_sparse_categorical_accuracy: 0.0031 - val_head_output_sparse_top_k_categorical_accuracy: 0.0094\n",
      "Epoch 43/60\n",
      "313/313 [==============================] - 4s 12ms/steploss: 7.3742 - h\n",
      "Competition score was 0.10916\n",
      "1563/1563 [==============================] - 76s 49ms/step - loss: 7.3738 - head_output_loss: 7.3738 - head_output_sparse_categorical_accuracy: 0.0014 - head_output_sparse_top_k_categorical_accuracy: 0.0051 - val_loss: 7.4941 - val_head_output_loss: 7.4941 - val_head_output_sparse_categorical_accuracy: 0.0031 - val_head_output_sparse_top_k_categorical_accuracy: 0.0094\n",
      "Epoch 44/60\n",
      "313/313 [==============================] - 2s 8ms/step loss: 7.3721 - head_output_loss: 7.3721 - head_output_\n",
      "Competition score was 0.1085\n",
      "1563/1563 [==============================] - 51s 33ms/step - loss: 7.3718 - head_output_loss: 7.3718 - head_output_sparse_categorical_accuracy: 0.0014 - head_output_sparse_top_k_categorical_accuracy: 0.0052 - val_loss: 7.4922 - val_head_output_loss: 7.4922 - val_head_output_sparse_categorical_accuracy: 0.0031 - val_head_output_sparse_top_k_categorical_accuracy: 0.0094\n",
      "Epoch 45/60\n",
      "313/313 [==============================] - 4s 12ms/steploss: 7.3701 - h\n",
      "Competition score was 0.10736\n",
      "1563/1563 [==============================] - 70s 45ms/step - loss: 7.3698 - head_output_loss: 7.3698 - head_output_sparse_categorical_accuracy: 0.0014 - head_output_sparse_top_k_categorical_accuracy: 0.0053 - val_loss: 7.4941 - val_head_output_loss: 7.4941 - val_head_output_sparse_categorical_accuracy: 0.0031 - val_head_output_sparse_top_k_categorical_accuracy: 0.0094\n",
      "Epoch 46/60\n",
      "313/313 [==============================] - 2s 8ms/step loss: 7.3675 - head_output_loss: 7.3675 - head_outpu\n",
      "Competition score was 0.11026\n",
      "1563/1563 [==============================] - 55s 35ms/step - loss: 7.3674 - head_output_loss: 7.3674 - head_output_sparse_categorical_accuracy: 0.0014 - head_output_sparse_top_k_categorical_accuracy: 0.0053 - val_loss: 7.4922 - val_head_output_loss: 7.4922 - val_head_output_sparse_categorical_accuracy: 0.0031 - val_head_output_sparse_top_k_categorical_accuracy: 0.0094\n",
      "Epoch 47/60\n",
      "313/313 [==============================] - 4s 12ms/steploss: 7.3660 -\n",
      "Competition score was 0.11026\n",
      "1563/1563 [==============================] - 69s 44ms/step - loss: 7.3655 - head_output_loss: 7.3655 - head_output_sparse_categorical_accuracy: 0.0014 - head_output_sparse_top_k_categorical_accuracy: 0.0054 - val_loss: 7.4887 - val_head_output_loss: 7.4887 - val_head_output_sparse_categorical_accuracy: 0.0031 - val_head_output_sparse_top_k_categorical_accuracy: 0.0094\n",
      "Epoch 48/60\n",
      "313/313 [==============================] - 2s 8ms/step loss: 7.3637 - head_output_loss: 7.3637 - head_output_sp\n",
      "Competition score was 0.11094\n",
      "1563/1563 [==============================] - 58s 37ms/step - loss: 7.3636 - head_output_loss: 7.3636 - head_output_sparse_categorical_accuracy: 0.0013 - head_output_sparse_top_k_categorical_accuracy: 0.0055 - val_loss: 7.4859 - val_head_output_loss: 7.4859 - val_head_output_sparse_categorical_accuracy: 0.0031 - val_head_output_sparse_top_k_categorical_accuracy: 0.0094\n",
      "Epoch 49/60\n",
      "313/313 [==============================] - 4s 12ms/steploss: \n",
      "Competition score was 0.11038\n",
      "1563/1563 [==============================] - 68s 43ms/step - loss: 7.3616 - head_output_loss: 7.3616 - head_output_sparse_categorical_accuracy: 0.0013 - head_output_sparse_top_k_categorical_accuracy: 0.0055 - val_loss: 7.4863 - val_head_output_loss: 7.4863 - val_head_output_sparse_categorical_accuracy: 0.0031 - val_head_output_sparse_top_k_categorical_accuracy: 0.0063\n",
      "Epoch 50/60\n",
      "313/313 [==============================] - 2s 8ms/step loss: 7.3598 - head_output_loss: 7.3598 - head_output_\n",
      "Competition score was 0.10936\n",
      "1563/1563 [==============================] - 61s 39ms/step - loss: 7.3598 - head_output_loss: 7.3598 - head_output_sparse_categorical_accuracy: 0.0013 - head_output_sparse_top_k_categorical_accuracy: 0.0054 - val_loss: 7.4852 - val_head_output_loss: 7.4852 - val_head_output_sparse_categorical_accuracy: 0.0031 - val_head_output_sparse_top_k_categorical_accuracy: 0.0063\n",
      "Epoch 51/60\n",
      "313/313 [==============================] - 4s 12ms/steploss: 7.3585\n",
      "Competition score was 0.10912\n",
      "1563/1563 [==============================] - 72s 46ms/step - loss: 7.3582 - head_output_loss: 7.3582 - head_output_sparse_categorical_accuracy: 0.0013 - head_output_sparse_top_k_categorical_accuracy: 0.0055 - val_loss: 7.4820 - val_head_output_loss: 7.4820 - val_head_output_sparse_categorical_accuracy: 0.0031 - val_head_output_sparse_top_k_categorical_accuracy: 0.0063\n",
      "Epoch 52/60\n",
      "313/313 [==============================] - 2s 8ms/step loss: 7.3564 - head_output_loss: 7.3564 - head_output_\n",
      "Competition score was 0.10868\n",
      "1563/1563 [==============================] - 49s 32ms/step - loss: 7.3563 - head_output_loss: 7.3563 - head_output_sparse_categorical_accuracy: 0.0014 - head_output_sparse_top_k_categorical_accuracy: 0.0055 - val_loss: 7.4824 - val_head_output_loss: 7.4824 - val_head_output_sparse_categorical_accuracy: 0.0031 - val_head_output_sparse_top_k_categorical_accuracy: 0.0063\n",
      "Epoch 53/60\n",
      "313/313 [==============================] - 3s 8ms/step loss: 7.3545 - head_output_loss: 7.3545 - head_outpu\n",
      "Competition score was 0.10928\n",
      "1563/1563 [==============================] - 49s 32ms/step - loss: 7.3542 - head_output_loss: 7.3542 - head_output_sparse_categorical_accuracy: 0.0014 - head_output_sparse_top_k_categorical_accuracy: 0.0056 - val_loss: 7.4844 - val_head_output_loss: 7.4844 - val_head_output_sparse_categorical_accuracy: 0.0031 - val_head_output_sparse_top_k_categorical_accuracy: 0.0063\n",
      "Epoch 54/60\n",
      "313/313 [==============================] - 3s 8ms/step loss: 7.3524 - head_output_loss: 7.3524 - head_outpu\n",
      "Competition score was 0.10712\n",
      "1563/1563 [==============================] - 49s 31ms/step - loss: 7.3521 - head_output_loss: 7.3521 - head_output_sparse_categorical_accuracy: 0.0013 - head_output_sparse_top_k_categorical_accuracy: 0.0055 - val_loss: 7.4793 - val_head_output_loss: 7.4793 - val_head_output_sparse_categorical_accuracy: 0.0031 - val_head_output_sparse_top_k_categorical_accuracy: 0.0063\n",
      "Epoch 55/60\n",
      "313/313 [==============================] - 3s 8ms/step loss: 7.3508 - head_output_loss: 7.3508 - head_out\n",
      "Competition score was 0.1082\n",
      "1563/1563 [==============================] - 63s 40ms/step - loss: 7.3504 - head_output_loss: 7.3504 - head_output_sparse_categorical_accuracy: 0.0014 - head_output_sparse_top_k_categorical_accuracy: 0.0055 - val_loss: 7.4773 - val_head_output_loss: 7.4773 - val_head_output_sparse_categorical_accuracy: 0.0031 - val_head_output_sparse_top_k_categorical_accuracy: 0.0063\n",
      "Epoch 56/60\n",
      "313/313 [==============================] - 4s 13ms/step\n",
      "Competition score was 0.10974\n",
      "1563/1563 [==============================] - 75s 48ms/step - loss: 7.3487 - head_output_loss: 7.3487 - head_output_sparse_categorical_accuracy: 0.0013 - head_output_sparse_top_k_categorical_accuracy: 0.0055 - val_loss: 7.4781 - val_head_output_loss: 7.4781 - val_head_output_sparse_categorical_accuracy: 0.0031 - val_head_output_sparse_top_k_categorical_accuracy: 0.0063\n",
      "Epoch 57/60\n",
      "313/313 [==============================] - 2s 8ms/step loss: 7.3475 - head_output_loss: 7.3475 - head_output_sp\n",
      "Competition score was 0.10858\n",
      "1563/1563 [==============================] - 49s 31ms/step - loss: 7.3472 - head_output_loss: 7.3472 - head_output_sparse_categorical_accuracy: 0.0013 - head_output_sparse_top_k_categorical_accuracy: 0.0055 - val_loss: 7.4758 - val_head_output_loss: 7.4758 - val_head_output_sparse_categorical_accuracy: 0.0031 - val_head_output_sparse_top_k_categorical_accuracy: 0.0063\n",
      "Epoch 58/60\n",
      "313/313 [==============================] - 4s 12ms/steploss: 7.3461\n",
      "Competition score was 0.10732\n",
      "1563/1563 [==============================] - 68s 44ms/step - loss: 7.3457 - head_output_loss: 7.3457 - head_output_sparse_categorical_accuracy: 0.0013 - head_output_sparse_top_k_categorical_accuracy: 0.0054 - val_loss: 7.4723 - val_head_output_loss: 7.4723 - val_head_output_sparse_categorical_accuracy: 0.0031 - val_head_output_sparse_top_k_categorical_accuracy: 0.0063\n",
      "Epoch 59/60\n",
      "313/313 [==============================] - 3s 8ms/step loss: 7.3446 - head_output_loss: 7.3446 - head_outpu\n",
      "Competition score was 0.1079\n",
      "1563/1563 [==============================] - 64s 41ms/step - loss: 7.3446 - head_output_loss: 7.3446 - head_output_sparse_categorical_accuracy: 0.0013 - head_output_sparse_top_k_categorical_accuracy: 0.0055 - val_loss: 7.4734 - val_head_output_loss: 7.4734 - val_head_output_sparse_categorical_accuracy: 0.0031 - val_head_output_sparse_top_k_categorical_accuracy: 0.0063\n",
      "Epoch 60/60\n",
      "313/313 [==============================] - 4s 13ms/step\n",
      "Competition score was 0.1067\n",
      "1563/1563 [==============================] - 71s 45ms/step - loss: 7.3430 - head_output_loss: 7.3430 - head_output_sparse_categorical_accuracy: 0.0013 - head_output_sparse_top_k_categorical_accuracy: 0.0056 - val_loss: 7.4707 - val_head_output_loss: 7.4707 - val_head_output_sparse_categorical_accuracy: 0.0031 - val_head_output_sparse_top_k_categorical_accuracy: 0.0063\n"
     ]
    }
   ],
   "source": [
    "history = debug_model.fit(\n",
    "        train_dataset,\n",
    "        epochs=config.EPOCHS,\n",
    "        validation_steps = validation_steps,\n",
    "        validation_data = test_dataset,\n",
    "        verbose=1,\n",
    "        callbacks=[tensorboard_callback, emb_callback]\n",
    "    )"
   ]
  },
  {
   "cell_type": "code",
   "execution_count": 32,
   "metadata": {},
   "outputs": [
    {
     "name": "stdout",
     "output_type": "stream",
     "text": [
      "Test examples: 10000\n",
      "313/313 [==============================] - 4s 12ms/step\n"
     ]
    }
   ],
   "source": [
    "print(\"Test examples:\",len(x_test))\n",
    "pred_class, pred_emb = debug_model.predict((x_test, y_test))  # I don't like this, (hacky way would be y test of -1s if non given)\n",
    "\n",
    "true_class = y_test"
   ]
  },
  {
   "cell_type": "code",
   "execution_count": 33,
   "metadata": {},
   "outputs": [
    {
     "data": {
      "text/html": [
       "<div>\n",
       "<style scoped>\n",
       "    .dataframe tbody tr th:only-of-type {\n",
       "        vertical-align: middle;\n",
       "    }\n",
       "\n",
       "    .dataframe tbody tr th {\n",
       "        vertical-align: top;\n",
       "    }\n",
       "\n",
       "    .dataframe thead th {\n",
       "        text-align: right;\n",
       "    }\n",
       "</style>\n",
       "<table border=\"1\" class=\"dataframe\">\n",
       "  <thead>\n",
       "    <tr style=\"text-align: right;\">\n",
       "      <th></th>\n",
       "      <th>annoy_idx</th>\n",
       "      <th>true_class</th>\n",
       "      <th>pred_class</th>\n",
       "      <th>embedding</th>\n",
       "    </tr>\n",
       "  </thead>\n",
       "  <tbody>\n",
       "    <tr>\n",
       "      <th>0</th>\n",
       "      <td>0</td>\n",
       "      <td>49</td>\n",
       "      <td>95</td>\n",
       "      <td>[43.73854, 15.851908, -1.7649889, 3.4214182, -...</td>\n",
       "    </tr>\n",
       "    <tr>\n",
       "      <th>1</th>\n",
       "      <td>1</td>\n",
       "      <td>33</td>\n",
       "      <td>13</td>\n",
       "      <td>[15.373831, -13.585405, -20.034208, -21.310646...</td>\n",
       "    </tr>\n",
       "    <tr>\n",
       "      <th>2</th>\n",
       "      <td>2</td>\n",
       "      <td>72</td>\n",
       "      <td>13</td>\n",
       "      <td>[75.07383, 94.89427, -40.70049, 1.7230673, -77...</td>\n",
       "    </tr>\n",
       "    <tr>\n",
       "      <th>3</th>\n",
       "      <td>3</td>\n",
       "      <td>51</td>\n",
       "      <td>13</td>\n",
       "      <td>[60.414726, 101.26077, -44.709564, -34.36889, ...</td>\n",
       "    </tr>\n",
       "    <tr>\n",
       "      <th>4</th>\n",
       "      <td>4</td>\n",
       "      <td>71</td>\n",
       "      <td>62</td>\n",
       "      <td>[4.781587, 0.46057606, -26.04817, -20.19368, -...</td>\n",
       "    </tr>\n",
       "  </tbody>\n",
       "</table>\n",
       "</div>"
      ],
      "text/plain": [
       "   annoy_idx  true_class  pred_class  \\\n",
       "0          0          49          95   \n",
       "1          1          33          13   \n",
       "2          2          72          13   \n",
       "3          3          51          13   \n",
       "4          4          71          62   \n",
       "\n",
       "                                           embedding  \n",
       "0  [43.73854, 15.851908, -1.7649889, 3.4214182, -...  \n",
       "1  [15.373831, -13.585405, -20.034208, -21.310646...  \n",
       "2  [75.07383, 94.89427, -40.70049, 1.7230673, -77...  \n",
       "3  [60.414726, 101.26077, -44.709564, -34.36889, ...  \n",
       "4  [4.781587, 0.46057606, -26.04817, -20.19368, -...  "
      ]
     },
     "execution_count": 33,
     "metadata": {},
     "output_type": "execute_result"
    }
   ],
   "source": [
    "embedding_data, tree = evaluation_metrics.test_embeddings(true_class,pred_class,pred_emb,config.NUM_CLASSES)\n",
    "\n",
    "emb_df = pd.DataFrame(embedding_data)\n",
    "emb_df.head()"
   ]
  },
  {
   "cell_type": "code",
   "execution_count": 34,
   "metadata": {},
   "outputs": [],
   "source": [
    "emb_df['length']=emb_df['embedding'].apply(evaluation_metrics.dist_to_origin)\n",
    "emb_df['normed_embeddings']=emb_df['embedding']/emb_df['length']"
   ]
  },
  {
   "cell_type": "code",
   "execution_count": 35,
   "metadata": {},
   "outputs": [
    {
     "data": {
      "text/plain": [
       "True"
      ]
     },
     "execution_count": 35,
     "metadata": {},
     "output_type": "execute_result"
    }
   ],
   "source": [
    "tree.build(20)"
   ]
  },
  {
   "cell_type": "code",
   "execution_count": 36,
   "metadata": {},
   "outputs": [],
   "source": [
    "emb_df['nearest_neighbors'] = emb_df['annoy_idx'].apply(lambda row: evaluation_metrics.n_neighbors(row,tree))\n",
    "emb_df['neighbor_classes'] = emb_df.apply(lambda row: evaluation_metrics.neighbor_classes(row,emb_df,true_classes=True), axis=1)\n",
    "emb_df['neighbor_pred_classes'] = emb_df.apply(lambda row: evaluation_metrics.neighbor_classes(row,emb_df,true_classes=False), axis=1)\n",
    "emb_df['matching_neighbors'] = emb_df.apply(lambda row: evaluation_metrics.matching_neighbors(row,true_classes=True), axis=1)\n",
    "emb_df['matching_neighbor_preds'] = emb_df.apply(lambda row: evaluation_metrics.matching_neighbors(row,true_classes=False), axis=1)"
   ]
  },
  {
   "cell_type": "code",
   "execution_count": 37,
   "metadata": {},
   "outputs": [
    {
     "data": {
      "text/html": [
       "<div>\n",
       "<style scoped>\n",
       "    .dataframe tbody tr th:only-of-type {\n",
       "        vertical-align: middle;\n",
       "    }\n",
       "\n",
       "    .dataframe tbody tr th {\n",
       "        vertical-align: top;\n",
       "    }\n",
       "\n",
       "    .dataframe thead th {\n",
       "        text-align: right;\n",
       "    }\n",
       "</style>\n",
       "<table border=\"1\" class=\"dataframe\">\n",
       "  <thead>\n",
       "    <tr style=\"text-align: right;\">\n",
       "      <th></th>\n",
       "      <th>annoy_idx</th>\n",
       "      <th>true_class</th>\n",
       "      <th>pred_class</th>\n",
       "      <th>embedding</th>\n",
       "      <th>length</th>\n",
       "      <th>normed_embeddings</th>\n",
       "      <th>nearest_neighbors</th>\n",
       "      <th>neighbor_classes</th>\n",
       "      <th>neighbor_pred_classes</th>\n",
       "      <th>matching_neighbors</th>\n",
       "      <th>matching_neighbor_preds</th>\n",
       "    </tr>\n",
       "  </thead>\n",
       "  <tbody>\n",
       "    <tr>\n",
       "      <th>0</th>\n",
       "      <td>0</td>\n",
       "      <td>49</td>\n",
       "      <td>95</td>\n",
       "      <td>[43.73854, 15.851908, -1.7649889, 3.4214182, -...</td>\n",
       "      <td>365.866425</td>\n",
       "      <td>[0.11954784, 0.043327037, -0.0048241345, 0.009...</td>\n",
       "      <td>[1642, 3298, 9786, 9528, 212]</td>\n",
       "      <td>[49, 39, 39, 95, 49]</td>\n",
       "      <td>[95, 95, 95, 39, 95]</td>\n",
       "      <td>2</td>\n",
       "      <td>4</td>\n",
       "    </tr>\n",
       "    <tr>\n",
       "      <th>1</th>\n",
       "      <td>1</td>\n",
       "      <td>33</td>\n",
       "      <td>13</td>\n",
       "      <td>[15.373831, -13.585405, -20.034208, -21.310646...</td>\n",
       "      <td>189.496704</td>\n",
       "      <td>[0.081129804, -0.07169204, -0.105723254, -0.11...</td>\n",
       "      <td>[9914, 2574, 608, 2521, 180]</td>\n",
       "      <td>[39, 64, 46, 73, 42]</td>\n",
       "      <td>[11, 98, 98, 95, 11]</td>\n",
       "      <td>0</td>\n",
       "      <td>0</td>\n",
       "    </tr>\n",
       "    <tr>\n",
       "      <th>2</th>\n",
       "      <td>2</td>\n",
       "      <td>72</td>\n",
       "      <td>13</td>\n",
       "      <td>[75.07383, 94.89427, -40.70049, 1.7230673, -77...</td>\n",
       "      <td>401.948578</td>\n",
       "      <td>[0.18677472, 0.23608561, -0.10125795, 0.004286...</td>\n",
       "      <td>[7489, 9460, 7842, 5636, 3502]</td>\n",
       "      <td>[51, 35, 48, 54, 45]</td>\n",
       "      <td>[82, 11, 13, 11, 13]</td>\n",
       "      <td>0</td>\n",
       "      <td>2</td>\n",
       "    </tr>\n",
       "    <tr>\n",
       "      <th>3</th>\n",
       "      <td>3</td>\n",
       "      <td>51</td>\n",
       "      <td>13</td>\n",
       "      <td>[60.414726, 101.26077, -44.709564, -34.36889, ...</td>\n",
       "      <td>436.840546</td>\n",
       "      <td>[0.13829927, 0.2318026, -0.10234756, -0.078676...</td>\n",
       "      <td>[8749, 8820, 9214, 3742, 1489]</td>\n",
       "      <td>[13, 51, 85, 45, 40]</td>\n",
       "      <td>[20, 13, 13, 20, 13]</td>\n",
       "      <td>1</td>\n",
       "      <td>3</td>\n",
       "    </tr>\n",
       "    <tr>\n",
       "      <th>4</th>\n",
       "      <td>4</td>\n",
       "      <td>71</td>\n",
       "      <td>62</td>\n",
       "      <td>[4.781587, 0.46057606, -26.04817, -20.19368, -...</td>\n",
       "      <td>205.809570</td>\n",
       "      <td>[0.023233065, 0.0022378748, -0.12656443, -0.09...</td>\n",
       "      <td>[6399, 9567, 996, 9734, 3031]</td>\n",
       "      <td>[36, 55, 50, 74, 94]</td>\n",
       "      <td>[53, 82, 39, 53, 53]</td>\n",
       "      <td>0</td>\n",
       "      <td>0</td>\n",
       "    </tr>\n",
       "  </tbody>\n",
       "</table>\n",
       "</div>"
      ],
      "text/plain": [
       "   annoy_idx  true_class  pred_class  \\\n",
       "0          0          49          95   \n",
       "1          1          33          13   \n",
       "2          2          72          13   \n",
       "3          3          51          13   \n",
       "4          4          71          62   \n",
       "\n",
       "                                           embedding      length  \\\n",
       "0  [43.73854, 15.851908, -1.7649889, 3.4214182, -...  365.866425   \n",
       "1  [15.373831, -13.585405, -20.034208, -21.310646...  189.496704   \n",
       "2  [75.07383, 94.89427, -40.70049, 1.7230673, -77...  401.948578   \n",
       "3  [60.414726, 101.26077, -44.709564, -34.36889, ...  436.840546   \n",
       "4  [4.781587, 0.46057606, -26.04817, -20.19368, -...  205.809570   \n",
       "\n",
       "                                   normed_embeddings  \\\n",
       "0  [0.11954784, 0.043327037, -0.0048241345, 0.009...   \n",
       "1  [0.081129804, -0.07169204, -0.105723254, -0.11...   \n",
       "2  [0.18677472, 0.23608561, -0.10125795, 0.004286...   \n",
       "3  [0.13829927, 0.2318026, -0.10234756, -0.078676...   \n",
       "4  [0.023233065, 0.0022378748, -0.12656443, -0.09...   \n",
       "\n",
       "                nearest_neighbors      neighbor_classes neighbor_pred_classes  \\\n",
       "0   [1642, 3298, 9786, 9528, 212]  [49, 39, 39, 95, 49]  [95, 95, 95, 39, 95]   \n",
       "1    [9914, 2574, 608, 2521, 180]  [39, 64, 46, 73, 42]  [11, 98, 98, 95, 11]   \n",
       "2  [7489, 9460, 7842, 5636, 3502]  [51, 35, 48, 54, 45]  [82, 11, 13, 11, 13]   \n",
       "3  [8749, 8820, 9214, 3742, 1489]  [13, 51, 85, 45, 40]  [20, 13, 13, 20, 13]   \n",
       "4   [6399, 9567, 996, 9734, 3031]  [36, 55, 50, 74, 94]  [53, 82, 39, 53, 53]   \n",
       "\n",
       "   matching_neighbors  matching_neighbor_preds  \n",
       "0                   2                        4  \n",
       "1                   0                        0  \n",
       "2                   0                        2  \n",
       "3                   1                        3  \n",
       "4                   0                        0  "
      ]
     },
     "execution_count": 37,
     "metadata": {},
     "output_type": "execute_result"
    }
   ],
   "source": [
    "emb_df.head()"
   ]
  },
  {
   "cell_type": "code",
   "execution_count": 38,
   "metadata": {},
   "outputs": [
    {
     "data": {
      "text/plain": [
       "0.1067"
      ]
     },
     "execution_count": 38,
     "metadata": {},
     "output_type": "execute_result"
    }
   ],
   "source": [
    "evaluation_metrics.competition_score(emb_df,5)"
   ]
  },
  {
   "cell_type": "code",
   "execution_count": 39,
   "metadata": {},
   "outputs": [],
   "source": [
    "emb_df['correct_prediction'] = emb_df['true_class']==emb_df['pred_class']"
   ]
  },
  {
   "cell_type": "code",
   "execution_count": 40,
   "metadata": {},
   "outputs": [
    {
     "name": "stdout",
     "output_type": "stream",
     "text": [
      "False    10000\n",
      "Name: correct_prediction, dtype: int64\n"
     ]
    }
   ],
   "source": [
    "print(emb_df['correct_prediction'].value_counts())"
   ]
  },
  {
   "cell_type": "code",
   "execution_count": 41,
   "metadata": {},
   "outputs": [
    {
     "data": {
      "text/plain": [
       "1    2214\n",
       "0    2105\n",
       "2    2047\n",
       "3    1786\n",
       "4    1208\n",
       "5     640\n",
       "Name: matching_neighbor_preds, dtype: int64"
      ]
     },
     "execution_count": 41,
     "metadata": {},
     "output_type": "execute_result"
    }
   ],
   "source": [
    "emb_df['matching_neighbor_preds'].value_counts()"
   ]
  },
  {
   "cell_type": "code",
   "execution_count": 42,
   "metadata": {},
   "outputs": [
    {
     "data": {
      "text/plain": [
       "0    6858\n",
       "1    1873\n",
       "2     705\n",
       "3     299\n",
       "4     170\n",
       "5      95\n",
       "Name: matching_neighbors, dtype: int64"
      ]
     },
     "execution_count": 42,
     "metadata": {},
     "output_type": "execute_result"
    }
   ],
   "source": [
    "emb_df['matching_neighbors'].value_counts()"
   ]
  },
  {
   "cell_type": "code",
   "execution_count": null,
   "metadata": {},
   "outputs": [],
   "source": []
  },
  {
   "cell_type": "code",
   "execution_count": null,
   "metadata": {},
   "outputs": [],
   "source": []
  },
  {
   "cell_type": "code",
   "execution_count": null,
   "metadata": {},
   "outputs": [],
   "source": []
  }
 ],
 "metadata": {
  "kernelspec": {
   "display_name": "Python 3.10.8 64-bit",
   "language": "python",
   "name": "python3"
  },
  "language_info": {
   "codemirror_mode": {
    "name": "ipython",
    "version": 3
   },
   "file_extension": ".py",
   "mimetype": "text/x-python",
   "name": "python",
   "nbconvert_exporter": "python",
   "pygments_lexer": "ipython3",
   "version": "3.10.8"
  },
  "orig_nbformat": 4,
  "vscode": {
   "interpreter": {
    "hash": "8f2aafffe541dce4fbde971e590718b403cdb167c5dc463f7f3d3005ad40d44b"
   }
  }
 },
 "nbformat": 4,
 "nbformat_minor": 2
}
